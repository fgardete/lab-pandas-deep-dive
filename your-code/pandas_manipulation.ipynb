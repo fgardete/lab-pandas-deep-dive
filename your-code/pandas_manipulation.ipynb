{
  "nbformat": 4,
  "nbformat_minor": 0,
  "metadata": {
    "colab": {
      "name": "pandas_manipulation.ipynb",
      "provenance": [],
      "collapsed_sections": [
        "vOYnzEMf0bMt",
        "KXAZMbZq0bM8",
        "87XwAsJg0bNG",
        "qgoEVptK0bNR",
        "bdEJlFO90bNg",
        "fkpXV6Rq0bNs",
        "e0zabZkg0bN5",
        "jXpmGoHI0bOF",
        "0wUxh8PP0bOK",
        "VhaOJabP0bOU"
      ]
    },
    "kernelspec": {
      "display_name": "Python 3",
      "language": "python",
      "name": "python3"
    },
    "language_info": {
      "codemirror_mode": {
        "name": "ipython",
        "version": 3
      },
      "file_extension": ".py",
      "mimetype": "text/x-python",
      "name": "python",
      "nbconvert_exporter": "python",
      "pygments_lexer": "ipython3",
      "version": "3.7.9"
    }
  },
  "cells": [
    {
      "cell_type": "markdown",
      "metadata": {
        "id": "SvbG5MbgBdoR"
      },
      "source": [
        "#------------------------------- Dataframe Calculations --------------------------------\n"
      ]
    },
    {
      "cell_type": "code",
      "metadata": {
        "colab": {
          "base_uri": "https://localhost:8080/"
        },
        "id": "lugF0rdwhxwb",
        "outputId": "285c058b-7775-4a97-b1b6-2eefd8158ce7"
      },
      "source": [
        "print('hello world')"
      ],
      "execution_count": null,
      "outputs": [
        {
          "output_type": "stream",
          "text": [
            "hello world\n"
          ],
          "name": "stdout"
        }
      ]
    },
    {
      "cell_type": "code",
      "metadata": {
        "id": "azEpX2gsNLRG"
      },
      "source": [
        "# THIS IS THE MOST IMPORTANT NOTEBOOK IN THIS COURSE\n",
        "\n",
        "import pandas as pd"
      ],
      "execution_count": null,
      "outputs": []
    },
    {
      "cell_type": "code",
      "metadata": {
        "id": "Y_BH-cJniWyh"
      },
      "source": [
        "# reading a csv table into a variable\n",
        "superstore = pd.read_csv(\"Sample - EU Superstore.csv\")\n",
        "# reading the excel table into a variable\n",
        "orders = pd.read_excel(\"orders.xlsx\")"
      ],
      "execution_count": null,
      "outputs": []
    },
    {
      "cell_type": "code",
      "metadata": {
        "id": "TutfF-PySoQ3"
      },
      "source": [
        "# from google.colab import drive\n",
        "# drive.mount('/content/drive')"
      ],
      "execution_count": null,
      "outputs": []
    },
    {
      "cell_type": "code",
      "metadata": {
        "colab": {
          "base_uri": "https://localhost:8080/",
          "height": 813
        },
        "id": "EpS7SsMuSaHy",
        "outputId": "0ded0b37-618b-47bd-f60b-98dcb4c7f163"
      },
      "source": [
        "display(superstore)"
      ],
      "execution_count": null,
      "outputs": [
        {
          "output_type": "display_data",
          "data": {
            "text/html": [
              "<div>\n",
              "<style scoped>\n",
              "    .dataframe tbody tr th:only-of-type {\n",
              "        vertical-align: middle;\n",
              "    }\n",
              "\n",
              "    .dataframe tbody tr th {\n",
              "        vertical-align: top;\n",
              "    }\n",
              "\n",
              "    .dataframe thead th {\n",
              "        text-align: right;\n",
              "    }\n",
              "</style>\n",
              "<table border=\"1\" class=\"dataframe\">\n",
              "  <thead>\n",
              "    <tr style=\"text-align: right;\">\n",
              "      <th></th>\n",
              "      <th>Row ID</th>\n",
              "      <th>Order ID</th>\n",
              "      <th>Order Date</th>\n",
              "      <th>Ship Date</th>\n",
              "      <th>Ship Mode</th>\n",
              "      <th>Customer ID</th>\n",
              "      <th>Customer Name</th>\n",
              "      <th>Segment</th>\n",
              "      <th>City</th>\n",
              "      <th>State</th>\n",
              "      <th>Country</th>\n",
              "      <th>Region</th>\n",
              "      <th>Product ID</th>\n",
              "      <th>Category</th>\n",
              "      <th>Sub-Category</th>\n",
              "      <th>Product Name</th>\n",
              "      <th>Sales</th>\n",
              "      <th>Quantity</th>\n",
              "      <th>Discount</th>\n",
              "      <th>Profit</th>\n",
              "    </tr>\n",
              "  </thead>\n",
              "  <tbody>\n",
              "    <tr>\n",
              "      <th>0</th>\n",
              "      <td>1</td>\n",
              "      <td>ES-2017-1311038</td>\n",
              "      <td>07/02/2017</td>\n",
              "      <td>11/02/2017</td>\n",
              "      <td>Standard Class</td>\n",
              "      <td>AS-10045</td>\n",
              "      <td>Aaron Smayling</td>\n",
              "      <td>Corporate</td>\n",
              "      <td>Leeds</td>\n",
              "      <td>England</td>\n",
              "      <td>United Kingdom</td>\n",
              "      <td>North</td>\n",
              "      <td>OFF-ST-10000988</td>\n",
              "      <td>Office Supplies</td>\n",
              "      <td>Storage</td>\n",
              "      <td>Fellowes Folders, Blue</td>\n",
              "      <td>79.20</td>\n",
              "      <td>3</td>\n",
              "      <td>0.0</td>\n",
              "      <td>39.60</td>\n",
              "    </tr>\n",
              "    <tr>\n",
              "      <th>1</th>\n",
              "      <td>2</td>\n",
              "      <td>ES-2017-1311038</td>\n",
              "      <td>07/02/2017</td>\n",
              "      <td>11/02/2017</td>\n",
              "      <td>Standard Class</td>\n",
              "      <td>AS-10045</td>\n",
              "      <td>Aaron Smayling</td>\n",
              "      <td>Corporate</td>\n",
              "      <td>Leeds</td>\n",
              "      <td>England</td>\n",
              "      <td>United Kingdom</td>\n",
              "      <td>North</td>\n",
              "      <td>TEC-AC-10004144</td>\n",
              "      <td>Technology</td>\n",
              "      <td>Accessories</td>\n",
              "      <td>SanDisk Numeric Keypad, Bluetooth</td>\n",
              "      <td>388.92</td>\n",
              "      <td>7</td>\n",
              "      <td>0.0</td>\n",
              "      <td>0.00</td>\n",
              "    </tr>\n",
              "    <tr>\n",
              "      <th>2</th>\n",
              "      <td>3</td>\n",
              "      <td>ES-2017-1311038</td>\n",
              "      <td>07/02/2017</td>\n",
              "      <td>11/02/2017</td>\n",
              "      <td>Standard Class</td>\n",
              "      <td>AS-10045</td>\n",
              "      <td>Aaron Smayling</td>\n",
              "      <td>Corporate</td>\n",
              "      <td>Leeds</td>\n",
              "      <td>England</td>\n",
              "      <td>United Kingdom</td>\n",
              "      <td>North</td>\n",
              "      <td>OFF-LA-10001915</td>\n",
              "      <td>Office Supplies</td>\n",
              "      <td>Labels</td>\n",
              "      <td>Avery Legal Exhibit Labels, 5000 Label Set</td>\n",
              "      <td>35.19</td>\n",
              "      <td>3</td>\n",
              "      <td>0.0</td>\n",
              "      <td>16.11</td>\n",
              "    </tr>\n",
              "    <tr>\n",
              "      <th>3</th>\n",
              "      <td>4</td>\n",
              "      <td>ES-2017-1311038</td>\n",
              "      <td>07/02/2017</td>\n",
              "      <td>11/02/2017</td>\n",
              "      <td>Standard Class</td>\n",
              "      <td>AS-10045</td>\n",
              "      <td>Aaron Smayling</td>\n",
              "      <td>Corporate</td>\n",
              "      <td>Leeds</td>\n",
              "      <td>England</td>\n",
              "      <td>United Kingdom</td>\n",
              "      <td>North</td>\n",
              "      <td>OFF-ST-10004550</td>\n",
              "      <td>Office Supplies</td>\n",
              "      <td>Storage</td>\n",
              "      <td>Fellowes Folders, Wire Frame</td>\n",
              "      <td>50.94</td>\n",
              "      <td>2</td>\n",
              "      <td>0.0</td>\n",
              "      <td>13.20</td>\n",
              "    </tr>\n",
              "    <tr>\n",
              "      <th>4</th>\n",
              "      <td>5</td>\n",
              "      <td>ES-2017-1311038</td>\n",
              "      <td>07/02/2017</td>\n",
              "      <td>11/02/2017</td>\n",
              "      <td>Standard Class</td>\n",
              "      <td>AS-10045</td>\n",
              "      <td>Aaron Smayling</td>\n",
              "      <td>Corporate</td>\n",
              "      <td>Leeds</td>\n",
              "      <td>England</td>\n",
              "      <td>United Kingdom</td>\n",
              "      <td>North</td>\n",
              "      <td>TEC-AC-10004068</td>\n",
              "      <td>Technology</td>\n",
              "      <td>Accessories</td>\n",
              "      <td>Memorex Memory Card, USB</td>\n",
              "      <td>307.44</td>\n",
              "      <td>3</td>\n",
              "      <td>0.0</td>\n",
              "      <td>73.71</td>\n",
              "    </tr>\n",
              "    <tr>\n",
              "      <th>...</th>\n",
              "      <td>...</td>\n",
              "      <td>...</td>\n",
              "      <td>...</td>\n",
              "      <td>...</td>\n",
              "      <td>...</td>\n",
              "      <td>...</td>\n",
              "      <td>...</td>\n",
              "      <td>...</td>\n",
              "      <td>...</td>\n",
              "      <td>...</td>\n",
              "      <td>...</td>\n",
              "      <td>...</td>\n",
              "      <td>...</td>\n",
              "      <td>...</td>\n",
              "      <td>...</td>\n",
              "      <td>...</td>\n",
              "      <td>...</td>\n",
              "      <td>...</td>\n",
              "      <td>...</td>\n",
              "      <td>...</td>\n",
              "    </tr>\n",
              "    <tr>\n",
              "      <th>9995</th>\n",
              "      <td>9996</td>\n",
              "      <td>ES-2014-3780358</td>\n",
              "      <td>16/11/2014</td>\n",
              "      <td>19/11/2014</td>\n",
              "      <td>First Class</td>\n",
              "      <td>CC-12100</td>\n",
              "      <td>Chad Cunningham</td>\n",
              "      <td>Home Office</td>\n",
              "      <td>Rovigo</td>\n",
              "      <td>Veneto</td>\n",
              "      <td>Italy</td>\n",
              "      <td>South</td>\n",
              "      <td>OFF-BI-10000346</td>\n",
              "      <td>Office Supplies</td>\n",
              "      <td>Binders</td>\n",
              "      <td>Ibico 3-Hole Punch, Clear</td>\n",
              "      <td>59.82</td>\n",
              "      <td>2</td>\n",
              "      <td>0.0</td>\n",
              "      <td>23.88</td>\n",
              "    </tr>\n",
              "    <tr>\n",
              "      <th>9996</th>\n",
              "      <td>9997</td>\n",
              "      <td>ES-2015-5371207</td>\n",
              "      <td>25/01/2015</td>\n",
              "      <td>29/01/2015</td>\n",
              "      <td>Standard Class</td>\n",
              "      <td>GB-14575</td>\n",
              "      <td>Giulietta Baptist</td>\n",
              "      <td>Consumer</td>\n",
              "      <td>Hamburg</td>\n",
              "      <td>Hamburg</td>\n",
              "      <td>Germany</td>\n",
              "      <td>Central</td>\n",
              "      <td>OFF-BI-10002083</td>\n",
              "      <td>Office Supplies</td>\n",
              "      <td>Binders</td>\n",
              "      <td>Acco Hole Reinforcements, Economy</td>\n",
              "      <td>6.66</td>\n",
              "      <td>1</td>\n",
              "      <td>0.0</td>\n",
              "      <td>0.57</td>\n",
              "    </tr>\n",
              "    <tr>\n",
              "      <th>9997</th>\n",
              "      <td>9998</td>\n",
              "      <td>ES-2015-5371207</td>\n",
              "      <td>25/01/2015</td>\n",
              "      <td>29/01/2015</td>\n",
              "      <td>Standard Class</td>\n",
              "      <td>GB-14575</td>\n",
              "      <td>Giulietta Baptist</td>\n",
              "      <td>Consumer</td>\n",
              "      <td>Hamburg</td>\n",
              "      <td>Hamburg</td>\n",
              "      <td>Germany</td>\n",
              "      <td>Central</td>\n",
              "      <td>OFF-SU-10003211</td>\n",
              "      <td>Office Supplies</td>\n",
              "      <td>Supplies</td>\n",
              "      <td>Acme Ruler, Steel</td>\n",
              "      <td>96.66</td>\n",
              "      <td>6</td>\n",
              "      <td>0.0</td>\n",
              "      <td>28.98</td>\n",
              "    </tr>\n",
              "    <tr>\n",
              "      <th>9998</th>\n",
              "      <td>9999</td>\n",
              "      <td>ES-2015-5371207</td>\n",
              "      <td>25/01/2015</td>\n",
              "      <td>29/01/2015</td>\n",
              "      <td>Standard Class</td>\n",
              "      <td>GB-14575</td>\n",
              "      <td>Giulietta Baptist</td>\n",
              "      <td>Consumer</td>\n",
              "      <td>Hamburg</td>\n",
              "      <td>Hamburg</td>\n",
              "      <td>Germany</td>\n",
              "      <td>Central</td>\n",
              "      <td>TEC-PH-10001664</td>\n",
              "      <td>Technology</td>\n",
              "      <td>Phones</td>\n",
              "      <td>Motorola Office Telephone, VoIP</td>\n",
              "      <td>502.95</td>\n",
              "      <td>7</td>\n",
              "      <td>0.0</td>\n",
              "      <td>221.13</td>\n",
              "    </tr>\n",
              "    <tr>\n",
              "      <th>9999</th>\n",
              "      <td>10000</td>\n",
              "      <td>ES-2015-5371207</td>\n",
              "      <td>25/01/2015</td>\n",
              "      <td>29/01/2015</td>\n",
              "      <td>Standard Class</td>\n",
              "      <td>GB-14575</td>\n",
              "      <td>Giulietta Baptist</td>\n",
              "      <td>Consumer</td>\n",
              "      <td>Hamburg</td>\n",
              "      <td>Hamburg</td>\n",
              "      <td>Germany</td>\n",
              "      <td>Central</td>\n",
              "      <td>OFF-AR-10001228</td>\n",
              "      <td>Office Supplies</td>\n",
              "      <td>Art</td>\n",
              "      <td>Stanley Markers, Water Color</td>\n",
              "      <td>152.28</td>\n",
              "      <td>6</td>\n",
              "      <td>0.0</td>\n",
              "      <td>50.22</td>\n",
              "    </tr>\n",
              "  </tbody>\n",
              "</table>\n",
              "<p>10000 rows × 20 columns</p>\n",
              "</div>"
            ],
            "text/plain": [
              "      Row ID         Order ID  Order Date  ... Quantity Discount  Profit\n",
              "0          1  ES-2017-1311038  07/02/2017  ...        3      0.0   39.60\n",
              "1          2  ES-2017-1311038  07/02/2017  ...        7      0.0    0.00\n",
              "2          3  ES-2017-1311038  07/02/2017  ...        3      0.0   16.11\n",
              "3          4  ES-2017-1311038  07/02/2017  ...        2      0.0   13.20\n",
              "4          5  ES-2017-1311038  07/02/2017  ...        3      0.0   73.71\n",
              "...      ...              ...         ...  ...      ...      ...     ...\n",
              "9995    9996  ES-2014-3780358  16/11/2014  ...        2      0.0   23.88\n",
              "9996    9997  ES-2015-5371207  25/01/2015  ...        1      0.0    0.57\n",
              "9997    9998  ES-2015-5371207  25/01/2015  ...        6      0.0   28.98\n",
              "9998    9999  ES-2015-5371207  25/01/2015  ...        7      0.0  221.13\n",
              "9999   10000  ES-2015-5371207  25/01/2015  ...        6      0.0   50.22\n",
              "\n",
              "[10000 rows x 20 columns]"
            ]
          },
          "metadata": {
            "tags": []
          }
        }
      ]
    },
    {
      "cell_type": "markdown",
      "metadata": {
        "id": "vOYnzEMf0bMt"
      },
      "source": [
        "# Slicing"
      ]
    },
    {
      "cell_type": "code",
      "metadata": {
        "colab": {
          "base_uri": "https://localhost:8080/",
          "height": 181
        },
        "id": "ui_b0RqNi6Dl",
        "outputId": "7ceea750-16c0-4988-cf12-dab120c6c4dd"
      },
      "source": [
        "# shows the first 5 rows of the table\n",
        "superstore.head()"
      ],
      "execution_count": null,
      "outputs": [
        {
          "output_type": "error",
          "ename": "NameError",
          "evalue": "ignored",
          "traceback": [
            "\u001b[0;31m---------------------------------------------------------------------------\u001b[0m",
            "\u001b[0;31mNameError\u001b[0m                                 Traceback (most recent call last)",
            "\u001b[0;32m<ipython-input-2-447bb48da933>\u001b[0m in \u001b[0;36m<module>\u001b[0;34m()\u001b[0m\n\u001b[1;32m      1\u001b[0m \u001b[0;31m# shows the first 5 rows of the table\u001b[0m\u001b[0;34m\u001b[0m\u001b[0;34m\u001b[0m\u001b[0;34m\u001b[0m\u001b[0m\n\u001b[0;32m----> 2\u001b[0;31m \u001b[0msuperstore\u001b[0m\u001b[0;34m.\u001b[0m\u001b[0mhead\u001b[0m\u001b[0;34m(\u001b[0m\u001b[0;34m)\u001b[0m\u001b[0;34m\u001b[0m\u001b[0;34m\u001b[0m\u001b[0m\n\u001b[0m",
            "\u001b[0;31mNameError\u001b[0m: name 'superstore' is not defined"
          ]
        }
      ]
    },
    {
      "cell_type": "code",
      "metadata": {
        "colab": {
          "base_uri": "https://localhost:8080/",
          "height": 181
        },
        "id": "Fg7Be9lvmFbn",
        "outputId": "d77e809c-d8c0-4d2d-f263-04e1063f6320"
      },
      "source": [
        "#shows the last 10 rows of the table\n",
        "superstore.tail(10)"
      ],
      "execution_count": null,
      "outputs": [
        {
          "output_type": "error",
          "ename": "NameError",
          "evalue": "ignored",
          "traceback": [
            "\u001b[0;31m---------------------------------------------------------------------------\u001b[0m",
            "\u001b[0;31mNameError\u001b[0m                                 Traceback (most recent call last)",
            "\u001b[0;32m<ipython-input-3-1de23bee1178>\u001b[0m in \u001b[0;36m<module>\u001b[0;34m()\u001b[0m\n\u001b[1;32m      1\u001b[0m \u001b[0;31m#shows the last 10 rows of the table\u001b[0m\u001b[0;34m\u001b[0m\u001b[0;34m\u001b[0m\u001b[0;34m\u001b[0m\u001b[0m\n\u001b[0;32m----> 2\u001b[0;31m \u001b[0msuperstore\u001b[0m\u001b[0;34m.\u001b[0m\u001b[0mtail\u001b[0m\u001b[0;34m(\u001b[0m\u001b[0;36m10\u001b[0m\u001b[0;34m)\u001b[0m\u001b[0;34m\u001b[0m\u001b[0;34m\u001b[0m\u001b[0m\n\u001b[0m",
            "\u001b[0;31mNameError\u001b[0m: name 'superstore' is not defined"
          ]
        }
      ]
    },
    {
      "cell_type": "code",
      "metadata": {
        "id": "aw0vVGvwmOjK"
      },
      "source": [
        "# this returns an iterable columns object\n",
        "superstore.columns\n",
        "list(superstore.columns)"
      ],
      "execution_count": null,
      "outputs": []
    },
    {
      "cell_type": "code",
      "metadata": {
        "id": "LQyu8rVWmXkS"
      },
      "source": [
        "# this returns an iterable index object\n",
        "superstore.index\n",
        "list(superstore.index)\n",
        "\n",
        "list(orders.index) "
      ],
      "execution_count": null,
      "outputs": []
    },
    {
      "cell_type": "code",
      "metadata": {
        "id": "NlusCRYbmb1I"
      },
      "source": [
        "# how can I slice one or more columns\n",
        "\n",
        "# slicing one column\n",
        "superstore[\"City\"]"
      ],
      "execution_count": null,
      "outputs": []
    },
    {
      "cell_type": "code",
      "metadata": {
        "id": "YRS-AQo0muA-"
      },
      "source": [
        "#Slicing multiple columns\n",
        "\n",
        "superstore[['City', 'Country','Region']]"
      ],
      "execution_count": null,
      "outputs": []
    },
    {
      "cell_type": "markdown",
      "metadata": {
        "id": "KXAZMbZq0bM8"
      },
      "source": [
        "# Basic exploration & computation"
      ]
    },
    {
      "cell_type": "code",
      "metadata": {
        "colab": {
          "base_uri": "https://localhost:8080/"
        },
        "id": "dCDcoS-Fnfro",
        "outputId": "38e37f28-b41b-40c8-92fa-019795b73c18"
      },
      "source": [
        "#some useful column methods\n",
        "# unique method of pandas \n",
        "superstore['Country'].nunique()\n",
        "#superstore['Country'].unique()\n",
        "#superstore['Country'].value_counts()\n"
      ],
      "execution_count": null,
      "outputs": [
        {
          "output_type": "execute_result",
          "data": {
            "text/plain": [
              "15"
            ]
          },
          "metadata": {
            "tags": []
          },
          "execution_count": 22
        }
      ]
    },
    {
      "cell_type": "code",
      "metadata": {
        "colab": {
          "base_uri": "https://localhost:8080/"
        },
        "id": "j89w7FPAnqzi",
        "outputId": "e9c350e6-d2ce-434b-a879-e43f11fac69c"
      },
      "source": [
        "# some useful column aggregations\n",
        "\n",
        "# the sale with the highest value?\n",
        "superstore['Sales'].max()\n",
        "\n",
        "# what's the average sales value?\n",
        "superstore[['Sales','Profit']].mean()"
      ],
      "execution_count": null,
      "outputs": [
        {
          "output_type": "execute_result",
          "data": {
            "text/plain": [
              "Sales     293.808906\n",
              "Profit     37.282974\n",
              "dtype: float64"
            ]
          },
          "metadata": {
            "tags": []
          },
          "execution_count": 23
        }
      ]
    },
    {
      "cell_type": "code",
      "metadata": {
        "colab": {
          "base_uri": "https://localhost:8080/"
        },
        "id": "sBspq32Soi2d",
        "outputId": "fec561ca-7fe8-4273-9db9-f67338f31dcc"
      },
      "source": [
        "#on a Dataframe, a column aggregation function applies to all columns\n",
        "superstore.max()"
      ],
      "execution_count": null,
      "outputs": [
        {
          "output_type": "execute_result",
          "data": {
            "text/plain": [
              "Row ID                                     10000\n",
              "Order ID                         IT-2017-5992832\n",
              "Order Date                            31/12/2017\n",
              "Ship Date                             31/12/2017\n",
              "Ship Mode                         Standard Class\n",
              "Customer ID                             ZD-21925\n",
              "Customer Name                 Zuschuss Donatelli\n",
              "Segment                              Home Office\n",
              "City                                      Zwolle\n",
              "State                                     Zürich\n",
              "Country                           United Kingdom\n",
              "Region                                     South\n",
              "Product ID                       TEC-PH-10004992\n",
              "Category                              Technology\n",
              "Sub-Category                              Tables\n",
              "Product Name     Xerox Parchment Paper, Recycled\n",
              "Sales                                    7958.58\n",
              "Quantity                                      14\n",
              "Discount                                    0.85\n",
              "Profit                                   3979.08\n",
              "dtype: object"
            ]
          },
          "metadata": {
            "tags": []
          },
          "execution_count": 24
        }
      ]
    },
    {
      "cell_type": "code",
      "metadata": {
        "colab": {
          "base_uri": "https://localhost:8080/"
        },
        "id": "8rzxoNlRotbD",
        "outputId": "9a108ca0-570d-4c03-98c3-0e492cb2cac3"
      },
      "source": [
        "# but only on the columns where it makes sense\n",
        "superstore.mean()"
      ],
      "execution_count": null,
      "outputs": [
        {
          "output_type": "execute_result",
          "data": {
            "text/plain": [
              "Row ID      5000.500000\n",
              "Sales        293.808906\n",
              "Quantity       3.777300\n",
              "Discount       0.103105\n",
              "Profit        37.282974\n",
              "dtype: float64"
            ]
          },
          "metadata": {
            "tags": []
          },
          "execution_count": 25
        }
      ]
    },
    {
      "cell_type": "code",
      "metadata": {
        "colab": {
          "base_uri": "https://localhost:8080/",
          "height": 204
        },
        "id": "zs9VpU_R0bNE",
        "outputId": "c6ec7a61-712c-4be5-e719-7b1b3eb322ec"
      },
      "source": [
        "#We can do computations over columns\n",
        "# Let's calculate the unitary price (anyone has an idea how can we do this) \n",
        "superstore['Sales']/superstore['Quantity']\n",
        "\n",
        "#and store the result in a new column\n",
        "superstore['Unitary price'] = superstore['Sales']/superstore['Quantity']\n",
        "superstore[['Unitary price','Sales','Quantity']].head()\n",
        "\n",
        "#we can also do comparisons\n",
        "superstore['Large sale'] = superstore['Sales']>100 # create a boolean mask and save it into a new column\n",
        "superstore[['Large sale','Sales']].head()\n"
      ],
      "execution_count": null,
      "outputs": [
        {
          "output_type": "execute_result",
          "data": {
            "text/html": [
              "<div>\n",
              "<style scoped>\n",
              "    .dataframe tbody tr th:only-of-type {\n",
              "        vertical-align: middle;\n",
              "    }\n",
              "\n",
              "    .dataframe tbody tr th {\n",
              "        vertical-align: top;\n",
              "    }\n",
              "\n",
              "    .dataframe thead th {\n",
              "        text-align: right;\n",
              "    }\n",
              "</style>\n",
              "<table border=\"1\" class=\"dataframe\">\n",
              "  <thead>\n",
              "    <tr style=\"text-align: right;\">\n",
              "      <th></th>\n",
              "      <th>Large sale</th>\n",
              "      <th>Sales</th>\n",
              "    </tr>\n",
              "  </thead>\n",
              "  <tbody>\n",
              "    <tr>\n",
              "      <th>0</th>\n",
              "      <td>False</td>\n",
              "      <td>79.20</td>\n",
              "    </tr>\n",
              "    <tr>\n",
              "      <th>1</th>\n",
              "      <td>True</td>\n",
              "      <td>388.92</td>\n",
              "    </tr>\n",
              "    <tr>\n",
              "      <th>2</th>\n",
              "      <td>False</td>\n",
              "      <td>35.19</td>\n",
              "    </tr>\n",
              "    <tr>\n",
              "      <th>3</th>\n",
              "      <td>False</td>\n",
              "      <td>50.94</td>\n",
              "    </tr>\n",
              "    <tr>\n",
              "      <th>4</th>\n",
              "      <td>True</td>\n",
              "      <td>307.44</td>\n",
              "    </tr>\n",
              "  </tbody>\n",
              "</table>\n",
              "</div>"
            ],
            "text/plain": [
              "   Large sale   Sales\n",
              "0       False   79.20\n",
              "1        True  388.92\n",
              "2       False   35.19\n",
              "3       False   50.94\n",
              "4        True  307.44"
            ]
          },
          "metadata": {
            "tags": []
          },
          "execution_count": 26
        }
      ]
    },
    {
      "cell_type": "markdown",
      "metadata": {
        "id": "87XwAsJg0bNG"
      },
      "source": [
        "# Filtering & boolean masks"
      ]
    },
    {
      "cell_type": "code",
      "metadata": {
        "colab": {
          "base_uri": "https://localhost:8080/",
          "height": 496
        },
        "id": "lDQu3LfgqscG",
        "outputId": "9c9b7fbb-209e-49e6-ca40-a3e6101701ec"
      },
      "source": [
        "#a column like the one above (only True/False) is called a Boolean Mask\n",
        "#Boolean masks are very useful to filter rows in DataFrames\n",
        "superstore['Sales']>100\n",
        "superstore[superstore['Sales']>100].head()"
      ],
      "execution_count": null,
      "outputs": [
        {
          "output_type": "execute_result",
          "data": {
            "text/html": [
              "<div>\n",
              "<style scoped>\n",
              "    .dataframe tbody tr th:only-of-type {\n",
              "        vertical-align: middle;\n",
              "    }\n",
              "\n",
              "    .dataframe tbody tr th {\n",
              "        vertical-align: top;\n",
              "    }\n",
              "\n",
              "    .dataframe thead th {\n",
              "        text-align: right;\n",
              "    }\n",
              "</style>\n",
              "<table border=\"1\" class=\"dataframe\">\n",
              "  <thead>\n",
              "    <tr style=\"text-align: right;\">\n",
              "      <th></th>\n",
              "      <th>Row ID</th>\n",
              "      <th>Order ID</th>\n",
              "      <th>Order Date</th>\n",
              "      <th>Ship Date</th>\n",
              "      <th>Ship Mode</th>\n",
              "      <th>Customer ID</th>\n",
              "      <th>Customer Name</th>\n",
              "      <th>Segment</th>\n",
              "      <th>City</th>\n",
              "      <th>State</th>\n",
              "      <th>Country</th>\n",
              "      <th>Region</th>\n",
              "      <th>Product ID</th>\n",
              "      <th>Category</th>\n",
              "      <th>Sub-Category</th>\n",
              "      <th>Product Name</th>\n",
              "      <th>Sales</th>\n",
              "      <th>Quantity</th>\n",
              "      <th>Discount</th>\n",
              "      <th>Profit</th>\n",
              "      <th>Unitary price</th>\n",
              "      <th>Large sale</th>\n",
              "    </tr>\n",
              "  </thead>\n",
              "  <tbody>\n",
              "    <tr>\n",
              "      <th>1</th>\n",
              "      <td>2</td>\n",
              "      <td>ES-2017-1311038</td>\n",
              "      <td>07/02/2017</td>\n",
              "      <td>11/02/2017</td>\n",
              "      <td>Standard Class</td>\n",
              "      <td>AS-10045</td>\n",
              "      <td>Aaron Smayling</td>\n",
              "      <td>Corporate</td>\n",
              "      <td>Leeds</td>\n",
              "      <td>England</td>\n",
              "      <td>United Kingdom</td>\n",
              "      <td>North</td>\n",
              "      <td>TEC-AC-10004144</td>\n",
              "      <td>Technology</td>\n",
              "      <td>Accessories</td>\n",
              "      <td>SanDisk Numeric Keypad, Bluetooth</td>\n",
              "      <td>388.92</td>\n",
              "      <td>7</td>\n",
              "      <td>0.0</td>\n",
              "      <td>0.00</td>\n",
              "      <td>55.56</td>\n",
              "      <td>True</td>\n",
              "    </tr>\n",
              "    <tr>\n",
              "      <th>4</th>\n",
              "      <td>5</td>\n",
              "      <td>ES-2017-1311038</td>\n",
              "      <td>07/02/2017</td>\n",
              "      <td>11/02/2017</td>\n",
              "      <td>Standard Class</td>\n",
              "      <td>AS-10045</td>\n",
              "      <td>Aaron Smayling</td>\n",
              "      <td>Corporate</td>\n",
              "      <td>Leeds</td>\n",
              "      <td>England</td>\n",
              "      <td>United Kingdom</td>\n",
              "      <td>North</td>\n",
              "      <td>TEC-AC-10004068</td>\n",
              "      <td>Technology</td>\n",
              "      <td>Accessories</td>\n",
              "      <td>Memorex Memory Card, USB</td>\n",
              "      <td>307.44</td>\n",
              "      <td>3</td>\n",
              "      <td>0.0</td>\n",
              "      <td>73.71</td>\n",
              "      <td>102.48</td>\n",
              "      <td>True</td>\n",
              "    </tr>\n",
              "    <tr>\n",
              "      <th>5</th>\n",
              "      <td>6</td>\n",
              "      <td>ES-2017-1311038</td>\n",
              "      <td>07/02/2017</td>\n",
              "      <td>11/02/2017</td>\n",
              "      <td>Standard Class</td>\n",
              "      <td>AS-10045</td>\n",
              "      <td>Aaron Smayling</td>\n",
              "      <td>Corporate</td>\n",
              "      <td>Leeds</td>\n",
              "      <td>England</td>\n",
              "      <td>United Kingdom</td>\n",
              "      <td>North</td>\n",
              "      <td>OFF-ST-10002271</td>\n",
              "      <td>Office Supplies</td>\n",
              "      <td>Storage</td>\n",
              "      <td>Rogers Shelving, Wire Frame</td>\n",
              "      <td>122.40</td>\n",
              "      <td>2</td>\n",
              "      <td>0.0</td>\n",
              "      <td>37.92</td>\n",
              "      <td>61.20</td>\n",
              "      <td>True</td>\n",
              "    </tr>\n",
              "    <tr>\n",
              "      <th>6</th>\n",
              "      <td>7</td>\n",
              "      <td>ES-2017-1311038</td>\n",
              "      <td>07/02/2017</td>\n",
              "      <td>11/02/2017</td>\n",
              "      <td>Standard Class</td>\n",
              "      <td>AS-10045</td>\n",
              "      <td>Aaron Smayling</td>\n",
              "      <td>Corporate</td>\n",
              "      <td>Leeds</td>\n",
              "      <td>England</td>\n",
              "      <td>United Kingdom</td>\n",
              "      <td>North</td>\n",
              "      <td>TEC-PH-10003963</td>\n",
              "      <td>Technology</td>\n",
              "      <td>Phones</td>\n",
              "      <td>Apple Signal Booster, Full Size</td>\n",
              "      <td>413.82</td>\n",
              "      <td>3</td>\n",
              "      <td>0.0</td>\n",
              "      <td>20.61</td>\n",
              "      <td>137.94</td>\n",
              "      <td>True</td>\n",
              "    </tr>\n",
              "    <tr>\n",
              "      <th>7</th>\n",
              "      <td>8</td>\n",
              "      <td>ES-2015-5113958</td>\n",
              "      <td>02/08/2015</td>\n",
              "      <td>07/08/2015</td>\n",
              "      <td>Second Class</td>\n",
              "      <td>EB-13840</td>\n",
              "      <td>Ellis Ballard</td>\n",
              "      <td>Corporate</td>\n",
              "      <td>West Bromwich</td>\n",
              "      <td>England</td>\n",
              "      <td>United Kingdom</td>\n",
              "      <td>North</td>\n",
              "      <td>TEC-CO-10004325</td>\n",
              "      <td>Technology</td>\n",
              "      <td>Copiers</td>\n",
              "      <td>Canon Personal Copier, Laser</td>\n",
              "      <td>428.22</td>\n",
              "      <td>3</td>\n",
              "      <td>0.0</td>\n",
              "      <td>192.69</td>\n",
              "      <td>142.74</td>\n",
              "      <td>True</td>\n",
              "    </tr>\n",
              "  </tbody>\n",
              "</table>\n",
              "</div>"
            ],
            "text/plain": [
              "   Row ID         Order ID  Order Date  ...  Profit Unitary price Large sale\n",
              "1       2  ES-2017-1311038  07/02/2017  ...    0.00         55.56       True\n",
              "4       5  ES-2017-1311038  07/02/2017  ...   73.71        102.48       True\n",
              "5       6  ES-2017-1311038  07/02/2017  ...   37.92         61.20       True\n",
              "6       7  ES-2017-1311038  07/02/2017  ...   20.61        137.94       True\n",
              "7       8  ES-2015-5113958  02/08/2015  ...  192.69        142.74       True\n",
              "\n",
              "[5 rows x 22 columns]"
            ]
          },
          "metadata": {
            "tags": []
          },
          "execution_count": 27
        }
      ]
    },
    {
      "cell_type": "code",
      "metadata": {
        "id": "Yg_Wz6mexoqV"
      },
      "source": [
        "# do it yourself\n",
        "# find the supersore line with the maximum sales"
      ],
      "execution_count": null,
      "outputs": []
    },
    {
      "cell_type": "code",
      "metadata": {
        "colab": {
          "base_uri": "https://localhost:8080/",
          "height": 185
        },
        "id": "_qGEZhvzwhas",
        "outputId": "a50e7d4a-cb04-4434-e100-53016a62702e"
      },
      "source": [
        "#solution\n",
        "superstore[superstore['Sales'] == superstore['Sales'].max()]"
      ],
      "execution_count": null,
      "outputs": [
        {
          "output_type": "execute_result",
          "data": {
            "text/html": [
              "<div>\n",
              "<style scoped>\n",
              "    .dataframe tbody tr th:only-of-type {\n",
              "        vertical-align: middle;\n",
              "    }\n",
              "\n",
              "    .dataframe tbody tr th {\n",
              "        vertical-align: top;\n",
              "    }\n",
              "\n",
              "    .dataframe thead th {\n",
              "        text-align: right;\n",
              "    }\n",
              "</style>\n",
              "<table border=\"1\" class=\"dataframe\">\n",
              "  <thead>\n",
              "    <tr style=\"text-align: right;\">\n",
              "      <th></th>\n",
              "      <th>Row ID</th>\n",
              "      <th>Order ID</th>\n",
              "      <th>Order Date</th>\n",
              "      <th>Ship Date</th>\n",
              "      <th>Ship Mode</th>\n",
              "      <th>Customer ID</th>\n",
              "      <th>Customer Name</th>\n",
              "      <th>Segment</th>\n",
              "      <th>City</th>\n",
              "      <th>State</th>\n",
              "      <th>Country</th>\n",
              "      <th>Region</th>\n",
              "      <th>Product ID</th>\n",
              "      <th>Category</th>\n",
              "      <th>Sub-Category</th>\n",
              "      <th>Product Name</th>\n",
              "      <th>Sales</th>\n",
              "      <th>Quantity</th>\n",
              "      <th>Discount</th>\n",
              "      <th>Profit</th>\n",
              "      <th>Unitary price</th>\n",
              "      <th>Large sale</th>\n",
              "      <th>Large Sales</th>\n",
              "      <th>Large Quantity</th>\n",
              "      <th>Salesmean</th>\n",
              "      <th>Large Quantity and Sales</th>\n",
              "      <th>Large Quantity or Sales</th>\n",
              "      <th>not Large Quantity</th>\n",
              "    </tr>\n",
              "  </thead>\n",
              "  <tbody>\n",
              "    <tr>\n",
              "      <th>1774</th>\n",
              "      <td>1775</td>\n",
              "      <td>ES-2017-1651774</td>\n",
              "      <td>08/09/2017</td>\n",
              "      <td>14/09/2017</td>\n",
              "      <td>Standard Class</td>\n",
              "      <td>PJ-18835</td>\n",
              "      <td>Patrick Jones</td>\n",
              "      <td>Corporate</td>\n",
              "      <td>Prato</td>\n",
              "      <td>Tuscany</td>\n",
              "      <td>Italy</td>\n",
              "      <td>South</td>\n",
              "      <td>OFF-AP-10004512</td>\n",
              "      <td>Office Supplies</td>\n",
              "      <td>Appliances</td>\n",
              "      <td>Hoover Stove, Red</td>\n",
              "      <td>7958.58</td>\n",
              "      <td>14</td>\n",
              "      <td>0.0</td>\n",
              "      <td>3979.08</td>\n",
              "      <td>568.47</td>\n",
              "      <td>True</td>\n",
              "      <td>True</td>\n",
              "      <td>True</td>\n",
              "      <td>293.808906</td>\n",
              "      <td>True</td>\n",
              "      <td>True</td>\n",
              "      <td>False</td>\n",
              "    </tr>\n",
              "  </tbody>\n",
              "</table>\n",
              "</div>"
            ],
            "text/plain": [
              "      Row ID         Order ID  ... Large Quantity or Sales not Large Quantity\n",
              "1774    1775  ES-2017-1651774  ...                    True              False\n",
              "\n",
              "[1 rows x 28 columns]"
            ]
          },
          "metadata": {
            "tags": []
          },
          "execution_count": 29
        }
      ]
    },
    {
      "cell_type": "code",
      "metadata": {
        "colab": {
          "base_uri": "https://localhost:8080/",
          "height": 221
        },
        "id": "SM8v9l2N0bNL",
        "outputId": "74b54e25-0ea3-40b8-9a15-b7455c4fa6fa"
      },
      "source": [
        "#Boolean masks can also be combined by boolean operators (and, or, not), which in pandas are denoted by (&,|,~)\n",
        "\n",
        "superstore['Large Sales'] = superstore['Sales']>superstore['Sales'].mean()\n",
        "superstore['Large Quantity'] =superstore['Quantity']>5\n",
        "superstore['Salesmean'] = superstore['Sales'].mean()\n",
        "\n",
        "superstore[['Sales','Quantity','Salesmean','Large Sales','Large Quantity']].head()\n",
        "\n",
        "superstore['Large Quantity and Sales'] = (superstore['Quantity']>5) & (superstore['Sales']>superstore['Sales'].mean())\n",
        "superstore['Large Quantity or Sales'] = (superstore['Quantity']>5) | (superstore['Sales']>superstore['Sales'].mean())\n",
        "superstore['not Large Quantity'] = ~(superstore['Quantity']>5) # negation of a condition returns the symetric \n",
        "\n",
        "superstore[['Sales','Quantity','Salesmean','Large Sales','Large Quantity','Large Quantity and Sales','Large Quantity or Sales','not Large Quantity']].head()"
      ],
      "execution_count": null,
      "outputs": [
        {
          "output_type": "execute_result",
          "data": {
            "text/html": [
              "<div>\n",
              "<style scoped>\n",
              "    .dataframe tbody tr th:only-of-type {\n",
              "        vertical-align: middle;\n",
              "    }\n",
              "\n",
              "    .dataframe tbody tr th {\n",
              "        vertical-align: top;\n",
              "    }\n",
              "\n",
              "    .dataframe thead th {\n",
              "        text-align: right;\n",
              "    }\n",
              "</style>\n",
              "<table border=\"1\" class=\"dataframe\">\n",
              "  <thead>\n",
              "    <tr style=\"text-align: right;\">\n",
              "      <th></th>\n",
              "      <th>Sales</th>\n",
              "      <th>Quantity</th>\n",
              "      <th>Salesmean</th>\n",
              "      <th>Large Sales</th>\n",
              "      <th>Large Quantity</th>\n",
              "      <th>Large Quantity and Sales</th>\n",
              "      <th>Large Quantity or Sales</th>\n",
              "      <th>not Large Quantity</th>\n",
              "    </tr>\n",
              "  </thead>\n",
              "  <tbody>\n",
              "    <tr>\n",
              "      <th>0</th>\n",
              "      <td>79.20</td>\n",
              "      <td>3</td>\n",
              "      <td>293.808906</td>\n",
              "      <td>False</td>\n",
              "      <td>False</td>\n",
              "      <td>False</td>\n",
              "      <td>False</td>\n",
              "      <td>True</td>\n",
              "    </tr>\n",
              "    <tr>\n",
              "      <th>1</th>\n",
              "      <td>388.92</td>\n",
              "      <td>7</td>\n",
              "      <td>293.808906</td>\n",
              "      <td>True</td>\n",
              "      <td>True</td>\n",
              "      <td>True</td>\n",
              "      <td>True</td>\n",
              "      <td>False</td>\n",
              "    </tr>\n",
              "    <tr>\n",
              "      <th>2</th>\n",
              "      <td>35.19</td>\n",
              "      <td>3</td>\n",
              "      <td>293.808906</td>\n",
              "      <td>False</td>\n",
              "      <td>False</td>\n",
              "      <td>False</td>\n",
              "      <td>False</td>\n",
              "      <td>True</td>\n",
              "    </tr>\n",
              "    <tr>\n",
              "      <th>3</th>\n",
              "      <td>50.94</td>\n",
              "      <td>2</td>\n",
              "      <td>293.808906</td>\n",
              "      <td>False</td>\n",
              "      <td>False</td>\n",
              "      <td>False</td>\n",
              "      <td>False</td>\n",
              "      <td>True</td>\n",
              "    </tr>\n",
              "    <tr>\n",
              "      <th>4</th>\n",
              "      <td>307.44</td>\n",
              "      <td>3</td>\n",
              "      <td>293.808906</td>\n",
              "      <td>True</td>\n",
              "      <td>False</td>\n",
              "      <td>False</td>\n",
              "      <td>True</td>\n",
              "      <td>True</td>\n",
              "    </tr>\n",
              "  </tbody>\n",
              "</table>\n",
              "</div>"
            ],
            "text/plain": [
              "    Sales  Quantity  ...  Large Quantity or Sales  not Large Quantity\n",
              "0   79.20         3  ...                    False                True\n",
              "1  388.92         7  ...                     True               False\n",
              "2   35.19         3  ...                    False                True\n",
              "3   50.94         2  ...                    False                True\n",
              "4  307.44         3  ...                     True                True\n",
              "\n",
              "[5 rows x 8 columns]"
            ]
          },
          "metadata": {
            "tags": []
          },
          "execution_count": 28
        }
      ]
    },
    {
      "cell_type": "code",
      "metadata": {
        "colab": {
          "base_uri": "https://localhost:8080/",
          "height": 496
        },
        "id": "pTB-3x4K0bNN",
        "outputId": "1accddc6-31f3-41e7-dc6c-9c06a76f587f"
      },
      "source": [
        "#This means these combinations can be used in filters as well\n",
        "superstore[(superstore['City']=='Lisbon')].head()\n",
        "#superstore[(superstore['City']=='Lisbon')&(superstore['Segment']=='Corporate')].head()"
      ],
      "execution_count": null,
      "outputs": [
        {
          "output_type": "execute_result",
          "data": {
            "text/html": [
              "<div>\n",
              "<style scoped>\n",
              "    .dataframe tbody tr th:only-of-type {\n",
              "        vertical-align: middle;\n",
              "    }\n",
              "\n",
              "    .dataframe tbody tr th {\n",
              "        vertical-align: top;\n",
              "    }\n",
              "\n",
              "    .dataframe thead th {\n",
              "        text-align: right;\n",
              "    }\n",
              "</style>\n",
              "<table border=\"1\" class=\"dataframe\">\n",
              "  <thead>\n",
              "    <tr style=\"text-align: right;\">\n",
              "      <th></th>\n",
              "      <th>Row ID</th>\n",
              "      <th>Order ID</th>\n",
              "      <th>Order Date</th>\n",
              "      <th>Ship Date</th>\n",
              "      <th>Ship Mode</th>\n",
              "      <th>Customer ID</th>\n",
              "      <th>Customer Name</th>\n",
              "      <th>Segment</th>\n",
              "      <th>City</th>\n",
              "      <th>State</th>\n",
              "      <th>Country</th>\n",
              "      <th>Region</th>\n",
              "      <th>Product ID</th>\n",
              "      <th>Category</th>\n",
              "      <th>Sub-Category</th>\n",
              "      <th>Product Name</th>\n",
              "      <th>Sales</th>\n",
              "      <th>Quantity</th>\n",
              "      <th>Discount</th>\n",
              "      <th>Profit</th>\n",
              "      <th>Unitary price</th>\n",
              "      <th>Large sale</th>\n",
              "      <th>Large Sales</th>\n",
              "      <th>Large Quantity</th>\n",
              "      <th>Salesmean</th>\n",
              "      <th>Large Quantity and Sales</th>\n",
              "      <th>Large Quantity or Sales</th>\n",
              "      <th>not Large Quantity</th>\n",
              "    </tr>\n",
              "  </thead>\n",
              "  <tbody>\n",
              "    <tr>\n",
              "      <th>163</th>\n",
              "      <td>164</td>\n",
              "      <td>IT-2016-3695467</td>\n",
              "      <td>10/06/2016</td>\n",
              "      <td>14/06/2016</td>\n",
              "      <td>Standard Class</td>\n",
              "      <td>SS-20140</td>\n",
              "      <td>Saphhira Shifley</td>\n",
              "      <td>Corporate</td>\n",
              "      <td>Lisbon</td>\n",
              "      <td>Lisboa</td>\n",
              "      <td>Portugal</td>\n",
              "      <td>South</td>\n",
              "      <td>OFF-AP-10001623</td>\n",
              "      <td>Office Supplies</td>\n",
              "      <td>Appliances</td>\n",
              "      <td>Hoover Stove, White</td>\n",
              "      <td>3399.660</td>\n",
              "      <td>12</td>\n",
              "      <td>0.5</td>\n",
              "      <td>-3059.820</td>\n",
              "      <td>283.305</td>\n",
              "      <td>True</td>\n",
              "      <td>True</td>\n",
              "      <td>True</td>\n",
              "      <td>293.808906</td>\n",
              "      <td>True</td>\n",
              "      <td>True</td>\n",
              "      <td>False</td>\n",
              "    </tr>\n",
              "    <tr>\n",
              "      <th>345</th>\n",
              "      <td>346</td>\n",
              "      <td>IT-2017-5630655</td>\n",
              "      <td>27/08/2017</td>\n",
              "      <td>03/09/2017</td>\n",
              "      <td>Standard Class</td>\n",
              "      <td>ZC-21910</td>\n",
              "      <td>Zuschuss Carroll</td>\n",
              "      <td>Consumer</td>\n",
              "      <td>Lisbon</td>\n",
              "      <td>Lisboa</td>\n",
              "      <td>Portugal</td>\n",
              "      <td>South</td>\n",
              "      <td>OFF-PA-10001971</td>\n",
              "      <td>Office Supplies</td>\n",
              "      <td>Paper</td>\n",
              "      <td>Eaton Memo Slips, Premium</td>\n",
              "      <td>34.350</td>\n",
              "      <td>5</td>\n",
              "      <td>0.5</td>\n",
              "      <td>-11.100</td>\n",
              "      <td>6.870</td>\n",
              "      <td>False</td>\n",
              "      <td>False</td>\n",
              "      <td>False</td>\n",
              "      <td>293.808906</td>\n",
              "      <td>False</td>\n",
              "      <td>False</td>\n",
              "      <td>True</td>\n",
              "    </tr>\n",
              "    <tr>\n",
              "      <th>872</th>\n",
              "      <td>873</td>\n",
              "      <td>IT-2017-2208571</td>\n",
              "      <td>26/12/2017</td>\n",
              "      <td>28/12/2017</td>\n",
              "      <td>First Class</td>\n",
              "      <td>MS-17365</td>\n",
              "      <td>Maribeth Schnelling</td>\n",
              "      <td>Consumer</td>\n",
              "      <td>Lisbon</td>\n",
              "      <td>Lisboa</td>\n",
              "      <td>Portugal</td>\n",
              "      <td>South</td>\n",
              "      <td>OFF-BI-10000171</td>\n",
              "      <td>Office Supplies</td>\n",
              "      <td>Binders</td>\n",
              "      <td>Wilson Jones Index Tab, Recycled</td>\n",
              "      <td>20.430</td>\n",
              "      <td>6</td>\n",
              "      <td>0.5</td>\n",
              "      <td>-9.090</td>\n",
              "      <td>3.405</td>\n",
              "      <td>False</td>\n",
              "      <td>False</td>\n",
              "      <td>True</td>\n",
              "      <td>293.808906</td>\n",
              "      <td>False</td>\n",
              "      <td>True</td>\n",
              "      <td>False</td>\n",
              "    </tr>\n",
              "    <tr>\n",
              "      <th>873</th>\n",
              "      <td>874</td>\n",
              "      <td>IT-2017-2208571</td>\n",
              "      <td>26/12/2017</td>\n",
              "      <td>28/12/2017</td>\n",
              "      <td>First Class</td>\n",
              "      <td>MS-17365</td>\n",
              "      <td>Maribeth Schnelling</td>\n",
              "      <td>Consumer</td>\n",
              "      <td>Lisbon</td>\n",
              "      <td>Lisboa</td>\n",
              "      <td>Portugal</td>\n",
              "      <td>South</td>\n",
              "      <td>TEC-CO-10002232</td>\n",
              "      <td>Technology</td>\n",
              "      <td>Copiers</td>\n",
              "      <td>HP Ink, Laser</td>\n",
              "      <td>321.750</td>\n",
              "      <td>5</td>\n",
              "      <td>0.5</td>\n",
              "      <td>-193.050</td>\n",
              "      <td>64.350</td>\n",
              "      <td>True</td>\n",
              "      <td>True</td>\n",
              "      <td>False</td>\n",
              "      <td>293.808906</td>\n",
              "      <td>False</td>\n",
              "      <td>True</td>\n",
              "      <td>True</td>\n",
              "    </tr>\n",
              "    <tr>\n",
              "      <th>2759</th>\n",
              "      <td>2760</td>\n",
              "      <td>IT-2016-3432584</td>\n",
              "      <td>10/12/2016</td>\n",
              "      <td>15/12/2016</td>\n",
              "      <td>Standard Class</td>\n",
              "      <td>MY-17380</td>\n",
              "      <td>Maribeth Yedwab</td>\n",
              "      <td>Corporate</td>\n",
              "      <td>Lisbon</td>\n",
              "      <td>Lisboa</td>\n",
              "      <td>Portugal</td>\n",
              "      <td>South</td>\n",
              "      <td>OFF-AP-10001882</td>\n",
              "      <td>Office Supplies</td>\n",
              "      <td>Appliances</td>\n",
              "      <td>Breville Coffee Grinder, Silver</td>\n",
              "      <td>93.915</td>\n",
              "      <td>3</td>\n",
              "      <td>0.5</td>\n",
              "      <td>-18.855</td>\n",
              "      <td>31.305</td>\n",
              "      <td>False</td>\n",
              "      <td>False</td>\n",
              "      <td>False</td>\n",
              "      <td>293.808906</td>\n",
              "      <td>False</td>\n",
              "      <td>False</td>\n",
              "      <td>True</td>\n",
              "    </tr>\n",
              "  </tbody>\n",
              "</table>\n",
              "</div>"
            ],
            "text/plain": [
              "      Row ID         Order ID  ... Large Quantity or Sales not Large Quantity\n",
              "163      164  IT-2016-3695467  ...                    True              False\n",
              "345      346  IT-2017-5630655  ...                   False               True\n",
              "872      873  IT-2017-2208571  ...                    True              False\n",
              "873      874  IT-2017-2208571  ...                    True               True\n",
              "2759    2760  IT-2016-3432584  ...                   False               True\n",
              "\n",
              "[5 rows x 28 columns]"
            ]
          },
          "metadata": {
            "tags": []
          },
          "execution_count": 30
        }
      ]
    },
    {
      "cell_type": "code",
      "metadata": {
        "id": "-R9OrqbTwz8H"
      },
      "source": [
        "# interview question -> what condition returns more rows? and conditon vs or condition"
      ],
      "execution_count": null,
      "outputs": []
    },
    {
      "cell_type": "markdown",
      "metadata": {
        "id": "qgoEVptK0bNR"
      },
      "source": [
        "# Binning"
      ]
    },
    {
      "cell_type": "code",
      "metadata": {
        "colab": {
          "base_uri": "https://localhost:8080/"
        },
        "id": "C5G2_5PWxrLn",
        "outputId": "e1788915-e7de-44cb-8194-0a498a896e16"
      },
      "source": [
        "# how to perform binning -> bins on a variable\n",
        "\n",
        "superstore['Sales']"
      ],
      "execution_count": null,
      "outputs": [
        {
          "output_type": "execute_result",
          "data": {
            "text/plain": [
              "0        79.20\n",
              "1       388.92\n",
              "2        35.19\n",
              "3        50.94\n",
              "4       307.44\n",
              "         ...  \n",
              "9995     59.82\n",
              "9996      6.66\n",
              "9997     96.66\n",
              "9998    502.95\n",
              "9999    152.28\n",
              "Name: Sales, Length: 10000, dtype: float64"
            ]
          },
          "metadata": {
            "tags": []
          },
          "execution_count": 31
        }
      ]
    },
    {
      "cell_type": "code",
      "metadata": {
        "id": "5DiGA0P2xxsB"
      },
      "source": [
        "# this is the process of creating bins of a variable -> small boxes where you fit different ales values\n",
        "\"\"\"\n",
        "0 - 200 -> \"low\"\n",
        "200 - 500 -> \"medium\"\n",
        "501 - 1000 -> \"high\"\n",
        "> 1000 -> \"very high\"\n",
        "\"\"\""
      ],
      "execution_count": null,
      "outputs": []
    },
    {
      "cell_type": "code",
      "metadata": {
        "colab": {
          "base_uri": "https://localhost:8080/"
        },
        "id": "lFIEPmGPym-3",
        "outputId": "b7afd68a-3908-4286-9c72-d5481bfa27f2"
      },
      "source": [
        "# cut in 5 equally spaced bins\n",
        "labels = [\"Very Low\", \"Low\", \"Moderate\", \"High\", \"Very High\"]\n",
        "bins = pd.cut(superstore['Sales'],5, labels = labels)\n",
        "bins.value_counts()"
      ],
      "execution_count": null,
      "outputs": [
        {
          "output_type": "execute_result",
          "data": {
            "text/plain": [
              "Very Low     9721\n",
              "Low           244\n",
              "Moderate       25\n",
              "High            8\n",
              "Very High       2\n",
              "Name: Sales, dtype: int64"
            ]
          },
          "metadata": {
            "tags": []
          },
          "execution_count": 34
        }
      ]
    },
    {
      "cell_type": "code",
      "metadata": {
        "colab": {
          "base_uri": "https://localhost:8080/",
          "height": 102
        },
        "id": "M8J9Q1Fa0bNX",
        "outputId": "e294d3b0-5708-42d6-d1ac-1712fdace031"
      },
      "source": [
        "#check result\n",
        "display(superstore['Sales'].min())\n",
        "display(superstore['Sales'].max())\n",
        "print('size of bins = ', (superstore['Sales'].max()-superstore['Sales'].min())/5) # the cut is doing the following --> a bin size is given by the diference betweein the min and the max value and devided by the number of bins you want \n",
        "display(superstore[superstore['Sales']<1591.125+2.995].shape) # the lower bin is the values smaller that the bin size plus the lower value \n",
        "display(superstore[superstore['Sales']>7958.58-1591.125].shape) # the last bin is the values bigger that the maximum value minus the bin size"
      ],
      "execution_count": null,
      "outputs": [
        {
          "output_type": "display_data",
          "data": {
            "text/plain": [
              "2.955"
            ]
          },
          "metadata": {
            "tags": []
          }
        },
        {
          "output_type": "display_data",
          "data": {
            "text/plain": [
              "7958.58"
            ]
          },
          "metadata": {
            "tags": []
          }
        },
        {
          "output_type": "stream",
          "text": [
            "size of bins =  1591.125\n"
          ],
          "name": "stdout"
        },
        {
          "output_type": "display_data",
          "data": {
            "text/plain": [
              "(9721, 28)"
            ]
          },
          "metadata": {
            "tags": []
          }
        },
        {
          "output_type": "display_data",
          "data": {
            "text/plain": [
              "(2, 28)"
            ]
          },
          "metadata": {
            "tags": []
          }
        }
      ]
    },
    {
      "cell_type": "code",
      "metadata": {
        "colab": {
          "base_uri": "https://localhost:8080/"
        },
        "id": "Vnb22kG6zI93",
        "outputId": "bb45b528-4115-4b45-aca5-47df04627643"
      },
      "source": [
        "# qcut in 5 equaly filled bins. Why the imbalance? Because we have Repeated values --> they will fit in the previous bin\n",
        "qbins = pd.qcut(superstore['Sales'],5, labels = labels)\n",
        "qbins.value_counts()"
      ],
      "execution_count": null,
      "outputs": [
        {
          "output_type": "execute_result",
          "data": {
            "text/plain": [
              "Low          2004\n",
              "Very Low     2001\n",
              "Very High    2000\n",
              "High         2000\n",
              "Moderate     1995\n",
              "Name: Sales, dtype: int64"
            ]
          },
          "metadata": {
            "tags": []
          },
          "execution_count": 36
        }
      ]
    },
    {
      "cell_type": "code",
      "metadata": {
        "colab": {
          "base_uri": "https://localhost:8080/"
        },
        "id": "W0gMS1op0bNc",
        "outputId": "125f81ad-6009-4a18-fded-29205ecdb99c"
      },
      "source": [
        "# cut in 5 designed bins\n",
        "labels = [\"Very Low\", \"Low\", \"Moderate\", \"High\", \"Very High\"]\n",
        "bins = pd.cut(superstore['Sales'],[0,10,100,1000,2000,6000], labels = labels)\n",
        "bins.value_counts()"
      ],
      "execution_count": null,
      "outputs": [
        {
          "output_type": "execute_result",
          "data": {
            "text/plain": [
              "Moderate     4865\n",
              "Low          4359\n",
              "High          491\n",
              "Very High     156\n",
              "Very Low      127\n",
              "Name: Sales, dtype: int64"
            ]
          },
          "metadata": {
            "tags": []
          },
          "execution_count": 45
        }
      ]
    },
    {
      "cell_type": "code",
      "metadata": {
        "colab": {
          "base_uri": "https://localhost:8080/",
          "height": 282
        },
        "id": "iJn4okLG8jsr",
        "outputId": "a0d1dc99-141a-401f-b4b3-1342f78ba4cc"
      },
      "source": [
        "superstore['Sales'].hist(bins = 5)"
      ],
      "execution_count": null,
      "outputs": [
        {
          "output_type": "execute_result",
          "data": {
            "text/plain": [
              "<matplotlib.axes._subplots.AxesSubplot at 0x7fd29e21bb90>"
            ]
          },
          "metadata": {
            "tags": []
          },
          "execution_count": 46
        },
        {
          "output_type": "display_data",
          "data": {
            "image/png": "[encoded data removed]",
            "text/plain": [
              "<Figure size 432x288 with 1 Axes>"
            ]
          },
          "metadata": {
            "tags": [],
            "needs_background": "light"
          }
        }
      ]
    },
    {
      "cell_type": "code",
      "metadata": {
        "id": "lu2q3E-Gycfn"
      },
      "source": [
        "# do it yourself: create 3 equally spaced bins for profit\n",
        "# do it yourself: create one bin for negative profit and 3 equally sized bins for positive profits (there is a problem in the pandas library)"
      ],
      "execution_count": null,
      "outputs": []
    },
    {
      "cell_type": "code",
      "metadata": {
        "colab": {
          "base_uri": "https://localhost:8080/"
        },
        "id": "ELpPZ5Ayqh6f",
        "outputId": "50c5d0b6-ac0d-434f-8878-e15315235881"
      },
      "source": [
        "# solution 2\n",
        "\n",
        "# split into negative and positive and do the cut \n",
        "\n",
        "## negative \n",
        "n_labels = ['negative']\n",
        "\n",
        "n_profit = superstore[superstore['Profit']< 0]\n",
        "\n",
        "n_bin =  pd.cut(n_profit['Profit'], 1, labels = n_labels)\n",
        "print(n_bin.value_counts())\n",
        "\n",
        "## postive\n",
        "p_labels = ['low', 'mid', 'hig']\n",
        "\n",
        "p_profit = superstore[superstore['Profit']> 0]\n",
        "\n",
        "p_bin =  pd.cut(p_profit['Profit'], 3, labels = p_labels)\n",
        "\n",
        "print(p_bin.value_counts())\n",
        "\n",
        "\n"
      ],
      "execution_count": null,
      "outputs": [
        {
          "output_type": "stream",
          "text": [
            "negative    2118\n",
            "Name: Profit, dtype: int64\n",
            "low    7706\n",
            "mid      17\n",
            "hig       1\n",
            "Name: Profit, dtype: int64\n"
          ],
          "name": "stdout"
        }
      ]
    },
    {
      "cell_type": "markdown",
      "metadata": {
        "id": "bdEJlFO90bNg"
      },
      "source": [
        "# Grouping"
      ]
    },
    {
      "cell_type": "code",
      "metadata": {
        "id": "N994gpTb0bNg"
      },
      "source": [
        "# from a data analysis point of view there are two types of columns:\n",
        "\n",
        "# - Dimensions -> categorical variables -> Segment, City, Country -> they cannot be aggregated using typical maths operators -> sum, doesnt work\n",
        "# - Measures -> numerical variables -> can be aggregated\n",
        "\n",
        "# We sometimes are able to turn measures into dimensions by binning e.g. low risk, medium, high, very high\n",
        "\n",
        "# normally we represent measures as a function of dimensions -> sales per country, profit per state. This is done with group by"
      ],
      "execution_count": null,
      "outputs": []
    },
    {
      "cell_type": "code",
      "metadata": {
        "colab": {
          "base_uri": "https://localhost:8080/"
        },
        "id": "etijdsu0AxXM",
        "outputId": "e94a1e78-a79e-4ec9-d25c-5568aed6b2f3"
      },
      "source": [
        "# Group by similar to SQL, but with a lot of flexibility\n",
        "#### tip for sintax:  groupby(the dimensions you want to group by).agg({measure(s) to aggregate: aggegation function(s)}) ####\n",
        "\n",
        "superstore.groupby(['Segment']).agg({'Sales':'sum','Order Date':'min'})\n",
        "\n",
        "#alternatively, if we only have one column we can use the alternative syntax\n",
        "\n",
        "superstore.groupby(['Segment'])['Sales'].agg(sum)\n",
        "\n",
        "# grouped by dimensions become the new index!!\n",
        "\n",
        "#superstore.groupby(['Segment','State']).agg({'Sales':'sum','Order Date':'min','Customer ID':'nunique'}).head()"
      ],
      "execution_count": null,
      "outputs": [
        {
          "output_type": "execute_result",
          "data": {
            "text/plain": [
              "Segment\n",
              "Consumer       1.529716e+06\n",
              "Corporate      9.200083e+05\n",
              "Home Office    4.883645e+05\n",
              "Name: Sales, dtype: float64"
            ]
          },
          "metadata": {
            "tags": []
          },
          "execution_count": 8
        }
      ]
    },
    {
      "cell_type": "code",
      "metadata": {
        "colab": {
          "base_uri": "https://localhost:8080/",
          "height": 204
        },
        "id": "wp1uWHuF0bNm",
        "outputId": "2a848475-4392-4b12-f5ee-86436829ed42"
      },
      "source": [
        "#Multi-indexes can be hard to manage\n",
        "#Tip, you can turn the index back into columns by using reset_index()\n",
        "superstore.groupby(['Segment','State']).agg({'Sales':'sum','Order Date':'min','Customer ID':'nunique'}).reset_index().head()"
      ],
      "execution_count": null,
      "outputs": [
        {
          "output_type": "execute_result",
          "data": {
            "text/html": [
              "<div>\n",
              "<style scoped>\n",
              "    .dataframe tbody tr th:only-of-type {\n",
              "        vertical-align: middle;\n",
              "    }\n",
              "\n",
              "    .dataframe tbody tr th {\n",
              "        vertical-align: top;\n",
              "    }\n",
              "\n",
              "    .dataframe thead th {\n",
              "        text-align: right;\n",
              "    }\n",
              "</style>\n",
              "<table border=\"1\" class=\"dataframe\">\n",
              "  <thead>\n",
              "    <tr style=\"text-align: right;\">\n",
              "      <th></th>\n",
              "      <th>Segment</th>\n",
              "      <th>State</th>\n",
              "      <th>Sales</th>\n",
              "      <th>Order Date</th>\n",
              "      <th>Customer ID</th>\n",
              "    </tr>\n",
              "  </thead>\n",
              "  <tbody>\n",
              "    <tr>\n",
              "      <th>0</th>\n",
              "      <td>Consumer</td>\n",
              "      <td>Abruzzi</td>\n",
              "      <td>3851.8800</td>\n",
              "      <td>04/06/2017</td>\n",
              "      <td>4</td>\n",
              "    </tr>\n",
              "    <tr>\n",
              "      <th>1</th>\n",
              "      <td>Consumer</td>\n",
              "      <td>Alsace-Champagne-Ardenne-Lorraine</td>\n",
              "      <td>20664.8715</td>\n",
              "      <td>01/09/2015</td>\n",
              "      <td>44</td>\n",
              "    </tr>\n",
              "    <tr>\n",
              "      <th>2</th>\n",
              "      <td>Consumer</td>\n",
              "      <td>Andalusía</td>\n",
              "      <td>18270.4350</td>\n",
              "      <td>01/02/2016</td>\n",
              "      <td>31</td>\n",
              "    </tr>\n",
              "    <tr>\n",
              "      <th>3</th>\n",
              "      <td>Consumer</td>\n",
              "      <td>Antwerp</td>\n",
              "      <td>7899.0900</td>\n",
              "      <td>01/01/2016</td>\n",
              "      <td>9</td>\n",
              "    </tr>\n",
              "    <tr>\n",
              "      <th>4</th>\n",
              "      <td>Consumer</td>\n",
              "      <td>Apulia</td>\n",
              "      <td>12537.0000</td>\n",
              "      <td>02/02/2016</td>\n",
              "      <td>23</td>\n",
              "    </tr>\n",
              "  </tbody>\n",
              "</table>\n",
              "</div>"
            ],
            "text/plain": [
              "    Segment                              State  ...  Order Date Customer ID\n",
              "0  Consumer                            Abruzzi  ...  04/06/2017           4\n",
              "1  Consumer  Alsace-Champagne-Ardenne-Lorraine  ...  01/09/2015          44\n",
              "2  Consumer                          Andalusía  ...  01/02/2016          31\n",
              "3  Consumer                            Antwerp  ...  01/01/2016           9\n",
              "4  Consumer                             Apulia  ...  02/02/2016          23\n",
              "\n",
              "[5 rows x 5 columns]"
            ]
          },
          "metadata": {
            "tags": []
          },
          "execution_count": 9
        }
      ]
    },
    {
      "cell_type": "code",
      "metadata": {
        "colab": {
          "base_uri": "https://localhost:8080/"
        },
        "id": "VcvKTSheEJBQ",
        "outputId": "880a932a-58d2-4418-cec4-1af556f428fa"
      },
      "source": [
        "# what if I want to define my own aggregation operation?\n",
        "# you define your own aggregation function\n",
        "\n",
        "def range_aggregation(x):\n",
        "    return max(x) - min(x)\n",
        "\n",
        "range_aggregation([2,4,6,8,10]) \n"
      ],
      "execution_count": null,
      "outputs": [
        {
          "output_type": "execute_result",
          "data": {
            "text/plain": [
              "8"
            ]
          },
          "metadata": {
            "tags": []
          },
          "execution_count": 10
        }
      ]
    },
    {
      "cell_type": "code",
      "metadata": {
        "colab": {
          "base_uri": "https://localhost:8080/"
        },
        "id": "tzG3pdoREsk8",
        "outputId": "d017a49a-3e62-4c74-92d8-488e921cfd6d"
      },
      "source": [
        "# perform your usual group by, but then in the aggregation method, call the function you just defined\n",
        "superstore.groupby('Segment')['Sales'].agg(range_aggregation)"
      ],
      "execution_count": null,
      "outputs": [
        {
          "output_type": "execute_result",
          "data": {
            "text/plain": [
              "Segment\n",
              "Consumer       5782.065\n",
              "Corporate      7954.500\n",
              "Home Office    5269.050\n",
              "Name: Sales, dtype: float64"
            ]
          },
          "metadata": {
            "tags": []
          },
          "execution_count": 11
        }
      ]
    },
    {
      "cell_type": "code",
      "metadata": {
        "id": "f0gYsA_B1SAD",
        "colab": {
          "base_uri": "https://localhost:8080/",
          "height": 204
        },
        "outputId": "6ee971d1-87a5-4fc3-9443-b28d1feee73a"
      },
      "source": [
        "#do it yourself: find the average profitability and total Sales per shipping mode\n",
        "\n",
        "\n",
        "# solution\n",
        "\n",
        "superstore.groupby('Ship Mode').agg({'Profit': 'mean', 'Sales': 'count'})"
      ],
      "execution_count": null,
      "outputs": [
        {
          "output_type": "execute_result",
          "data": {
            "text/html": [
              "<div>\n",
              "<style scoped>\n",
              "    .dataframe tbody tr th:only-of-type {\n",
              "        vertical-align: middle;\n",
              "    }\n",
              "\n",
              "    .dataframe tbody tr th {\n",
              "        vertical-align: top;\n",
              "    }\n",
              "\n",
              "    .dataframe thead th {\n",
              "        text-align: right;\n",
              "    }\n",
              "</style>\n",
              "<table border=\"1\" class=\"dataframe\">\n",
              "  <thead>\n",
              "    <tr style=\"text-align: right;\">\n",
              "      <th></th>\n",
              "      <th>Profit</th>\n",
              "      <th>Sales</th>\n",
              "    </tr>\n",
              "    <tr>\n",
              "      <th>Ship Mode</th>\n",
              "      <th></th>\n",
              "      <th></th>\n",
              "    </tr>\n",
              "  </thead>\n",
              "  <tbody>\n",
              "    <tr>\n",
              "      <th>First Class</th>\n",
              "      <td>32.107759</td>\n",
              "      <td>1454</td>\n",
              "    </tr>\n",
              "    <tr>\n",
              "      <th>Same Day</th>\n",
              "      <td>46.551137</td>\n",
              "      <td>516</td>\n",
              "    </tr>\n",
              "    <tr>\n",
              "      <th>Second Class</th>\n",
              "      <td>36.584810</td>\n",
              "      <td>1976</td>\n",
              "    </tr>\n",
              "    <tr>\n",
              "      <th>Standard Class</th>\n",
              "      <td>37.963840</td>\n",
              "      <td>6054</td>\n",
              "    </tr>\n",
              "  </tbody>\n",
              "</table>\n",
              "</div>"
            ],
            "text/plain": [
              "                   Profit  Sales\n",
              "Ship Mode                       \n",
              "First Class     32.107759   1454\n",
              "Same Day        46.551137    516\n",
              "Second Class    36.584810   1976\n",
              "Standard Class  37.963840   6054"
            ]
          },
          "metadata": {
            "tags": []
          },
          "execution_count": 12
        }
      ]
    },
    {
      "cell_type": "markdown",
      "metadata": {
        "id": "w4eCuVjrBRTB"
      },
      "source": [
        "#------------------------------- Data Manipulation --------------------------------"
      ]
    },
    {
      "cell_type": "markdown",
      "metadata": {
        "id": "fkpXV6Rq0bNs"
      },
      "source": [
        "# Row operations - Apply"
      ]
    },
    {
      "cell_type": "code",
      "metadata": {
        "colab": {
          "base_uri": "https://localhost:8080/",
          "height": 513
        },
        "id": "yLMiNA4hFawE",
        "outputId": "793c1fb1-56a2-406e-a512-df6045567d88"
      },
      "source": [
        "# We have seen we can make a function over all rows by combining columns\n",
        "superstore['profit ratio'] = superstore['Profit']/superstore['Sales']\n",
        "superstore.head()"
      ],
      "execution_count": null,
      "outputs": [
        {
          "output_type": "execute_result",
          "data": {
            "text/html": [
              "<div>\n",
              "<style scoped>\n",
              "    .dataframe tbody tr th:only-of-type {\n",
              "        vertical-align: middle;\n",
              "    }\n",
              "\n",
              "    .dataframe tbody tr th {\n",
              "        vertical-align: top;\n",
              "    }\n",
              "\n",
              "    .dataframe thead th {\n",
              "        text-align: right;\n",
              "    }\n",
              "</style>\n",
              "<table border=\"1\" class=\"dataframe\">\n",
              "  <thead>\n",
              "    <tr style=\"text-align: right;\">\n",
              "      <th></th>\n",
              "      <th>Row ID</th>\n",
              "      <th>Order ID</th>\n",
              "      <th>Order Date</th>\n",
              "      <th>Ship Date</th>\n",
              "      <th>Ship Mode</th>\n",
              "      <th>Customer ID</th>\n",
              "      <th>Customer Name</th>\n",
              "      <th>Segment</th>\n",
              "      <th>City</th>\n",
              "      <th>State</th>\n",
              "      <th>Country</th>\n",
              "      <th>Region</th>\n",
              "      <th>Product ID</th>\n",
              "      <th>Category</th>\n",
              "      <th>Sub-Category</th>\n",
              "      <th>Product Name</th>\n",
              "      <th>Sales</th>\n",
              "      <th>Quantity</th>\n",
              "      <th>Discount</th>\n",
              "      <th>Profit</th>\n",
              "      <th>profit ratio</th>\n",
              "    </tr>\n",
              "  </thead>\n",
              "  <tbody>\n",
              "    <tr>\n",
              "      <th>0</th>\n",
              "      <td>1</td>\n",
              "      <td>ES-2017-1311038</td>\n",
              "      <td>07/02/2017</td>\n",
              "      <td>11/02/2017</td>\n",
              "      <td>Standard Class</td>\n",
              "      <td>AS-10045</td>\n",
              "      <td>Aaron Smayling</td>\n",
              "      <td>Corporate</td>\n",
              "      <td>Leeds</td>\n",
              "      <td>England</td>\n",
              "      <td>United Kingdom</td>\n",
              "      <td>North</td>\n",
              "      <td>OFF-ST-10000988</td>\n",
              "      <td>Office Supplies</td>\n",
              "      <td>Storage</td>\n",
              "      <td>Fellowes Folders, Blue</td>\n",
              "      <td>79.20</td>\n",
              "      <td>3</td>\n",
              "      <td>0.0</td>\n",
              "      <td>39.60</td>\n",
              "      <td>0.500000</td>\n",
              "    </tr>\n",
              "    <tr>\n",
              "      <th>1</th>\n",
              "      <td>2</td>\n",
              "      <td>ES-2017-1311038</td>\n",
              "      <td>07/02/2017</td>\n",
              "      <td>11/02/2017</td>\n",
              "      <td>Standard Class</td>\n",
              "      <td>AS-10045</td>\n",
              "      <td>Aaron Smayling</td>\n",
              "      <td>Corporate</td>\n",
              "      <td>Leeds</td>\n",
              "      <td>England</td>\n",
              "      <td>United Kingdom</td>\n",
              "      <td>North</td>\n",
              "      <td>TEC-AC-10004144</td>\n",
              "      <td>Technology</td>\n",
              "      <td>Accessories</td>\n",
              "      <td>SanDisk Numeric Keypad, Bluetooth</td>\n",
              "      <td>388.92</td>\n",
              "      <td>7</td>\n",
              "      <td>0.0</td>\n",
              "      <td>0.00</td>\n",
              "      <td>0.000000</td>\n",
              "    </tr>\n",
              "    <tr>\n",
              "      <th>2</th>\n",
              "      <td>3</td>\n",
              "      <td>ES-2017-1311038</td>\n",
              "      <td>07/02/2017</td>\n",
              "      <td>11/02/2017</td>\n",
              "      <td>Standard Class</td>\n",
              "      <td>AS-10045</td>\n",
              "      <td>Aaron Smayling</td>\n",
              "      <td>Corporate</td>\n",
              "      <td>Leeds</td>\n",
              "      <td>England</td>\n",
              "      <td>United Kingdom</td>\n",
              "      <td>North</td>\n",
              "      <td>OFF-LA-10001915</td>\n",
              "      <td>Office Supplies</td>\n",
              "      <td>Labels</td>\n",
              "      <td>Avery Legal Exhibit Labels, 5000 Label Set</td>\n",
              "      <td>35.19</td>\n",
              "      <td>3</td>\n",
              "      <td>0.0</td>\n",
              "      <td>16.11</td>\n",
              "      <td>0.457801</td>\n",
              "    </tr>\n",
              "    <tr>\n",
              "      <th>3</th>\n",
              "      <td>4</td>\n",
              "      <td>ES-2017-1311038</td>\n",
              "      <td>07/02/2017</td>\n",
              "      <td>11/02/2017</td>\n",
              "      <td>Standard Class</td>\n",
              "      <td>AS-10045</td>\n",
              "      <td>Aaron Smayling</td>\n",
              "      <td>Corporate</td>\n",
              "      <td>Leeds</td>\n",
              "      <td>England</td>\n",
              "      <td>United Kingdom</td>\n",
              "      <td>North</td>\n",
              "      <td>OFF-ST-10004550</td>\n",
              "      <td>Office Supplies</td>\n",
              "      <td>Storage</td>\n",
              "      <td>Fellowes Folders, Wire Frame</td>\n",
              "      <td>50.94</td>\n",
              "      <td>2</td>\n",
              "      <td>0.0</td>\n",
              "      <td>13.20</td>\n",
              "      <td>0.259128</td>\n",
              "    </tr>\n",
              "    <tr>\n",
              "      <th>4</th>\n",
              "      <td>5</td>\n",
              "      <td>ES-2017-1311038</td>\n",
              "      <td>07/02/2017</td>\n",
              "      <td>11/02/2017</td>\n",
              "      <td>Standard Class</td>\n",
              "      <td>AS-10045</td>\n",
              "      <td>Aaron Smayling</td>\n",
              "      <td>Corporate</td>\n",
              "      <td>Leeds</td>\n",
              "      <td>England</td>\n",
              "      <td>United Kingdom</td>\n",
              "      <td>North</td>\n",
              "      <td>TEC-AC-10004068</td>\n",
              "      <td>Technology</td>\n",
              "      <td>Accessories</td>\n",
              "      <td>Memorex Memory Card, USB</td>\n",
              "      <td>307.44</td>\n",
              "      <td>3</td>\n",
              "      <td>0.0</td>\n",
              "      <td>73.71</td>\n",
              "      <td>0.239754</td>\n",
              "    </tr>\n",
              "  </tbody>\n",
              "</table>\n",
              "</div>"
            ],
            "text/plain": [
              "   Row ID         Order ID  Order Date  ... Discount Profit profit ratio\n",
              "0       1  ES-2017-1311038  07/02/2017  ...      0.0  39.60     0.500000\n",
              "1       2  ES-2017-1311038  07/02/2017  ...      0.0   0.00     0.000000\n",
              "2       3  ES-2017-1311038  07/02/2017  ...      0.0  16.11     0.457801\n",
              "3       4  ES-2017-1311038  07/02/2017  ...      0.0  13.20     0.259128\n",
              "4       5  ES-2017-1311038  07/02/2017  ...      0.0  73.71     0.239754\n",
              "\n",
              "[5 rows x 21 columns]"
            ]
          },
          "metadata": {
            "tags": []
          },
          "execution_count": 13
        }
      ]
    },
    {
      "cell_type": "code",
      "metadata": {
        "colab": {
          "base_uri": "https://localhost:8080/",
          "height": 37
        },
        "id": "b168DTvcFxcc",
        "outputId": "63db227d-7218-4930-809b-81366c38b0b6"
      },
      "source": [
        "# what if I want to perform more complicated operations on the rows?\n",
        "# I want to calculate if a row is not profitable (profit < 0), profitable (0=< profit < 100) or very profitable (profit>100)\n",
        "\n",
        "# define a function that creates your logic\n",
        "# the input will be the value of the profit of each row\n",
        "\n",
        "def profitable(x):\n",
        "    if x<0:\n",
        "        return 'Not Profitable'\n",
        "    elif x<100: \n",
        "        return 'Profitable'\n",
        "    else:\n",
        "        return 'Very Profitable'\n",
        "\n",
        "profitable(-10)"
      ],
      "execution_count": null,
      "outputs": [
        {
          "output_type": "execute_result",
          "data": {
            "application/vnd.google.colaboratory.intrinsic+json": {
              "type": "string"
            },
            "text/plain": [
              "'Not Profitable'"
            ]
          },
          "metadata": {
            "tags": []
          },
          "execution_count": 14
        }
      ]
    },
    {
      "cell_type": "code",
      "metadata": {
        "colab": {
          "base_uri": "https://localhost:8080/"
        },
        "id": "HIoiTEkcGSGU",
        "outputId": "eacb3559-5199-486c-88a5-98f5fd1f0d8e"
      },
      "source": [
        "# applying a function that you want that has some logic in it to a row we use the apply method()\n",
        "superstore['Profit'].apply(profitable)"
      ],
      "execution_count": null,
      "outputs": [
        {
          "output_type": "execute_result",
          "data": {
            "text/plain": [
              "0            Profitable\n",
              "1            Profitable\n",
              "2            Profitable\n",
              "3            Profitable\n",
              "4            Profitable\n",
              "             ...       \n",
              "9995         Profitable\n",
              "9996         Profitable\n",
              "9997         Profitable\n",
              "9998    Very Profitable\n",
              "9999         Profitable\n",
              "Name: Profit, Length: 10000, dtype: object"
            ]
          },
          "metadata": {
            "tags": []
          },
          "execution_count": 15
        }
      ]
    },
    {
      "cell_type": "code",
      "metadata": {
        "colab": {
          "base_uri": "https://localhost:8080/",
          "height": 513
        },
        "id": "6LdYbL8AGlpV",
        "outputId": "a68ced23-7f13-4531-ba5f-d7ebeb734ac9"
      },
      "source": [
        "superstore['Profit-Flag'] = superstore['Profit'].apply(profitable)\n",
        "superstore.head()\n",
        "\n",
        "# the apply method, will apply the function given to each row in the dataframe, with the respective argument"
      ],
      "execution_count": null,
      "outputs": [
        {
          "output_type": "execute_result",
          "data": {
            "text/html": [
              "<div>\n",
              "<style scoped>\n",
              "    .dataframe tbody tr th:only-of-type {\n",
              "        vertical-align: middle;\n",
              "    }\n",
              "\n",
              "    .dataframe tbody tr th {\n",
              "        vertical-align: top;\n",
              "    }\n",
              "\n",
              "    .dataframe thead th {\n",
              "        text-align: right;\n",
              "    }\n",
              "</style>\n",
              "<table border=\"1\" class=\"dataframe\">\n",
              "  <thead>\n",
              "    <tr style=\"text-align: right;\">\n",
              "      <th></th>\n",
              "      <th>Row ID</th>\n",
              "      <th>Order ID</th>\n",
              "      <th>Order Date</th>\n",
              "      <th>Ship Date</th>\n",
              "      <th>Ship Mode</th>\n",
              "      <th>Customer ID</th>\n",
              "      <th>Customer Name</th>\n",
              "      <th>Segment</th>\n",
              "      <th>City</th>\n",
              "      <th>State</th>\n",
              "      <th>Country</th>\n",
              "      <th>Region</th>\n",
              "      <th>Product ID</th>\n",
              "      <th>Category</th>\n",
              "      <th>Sub-Category</th>\n",
              "      <th>Product Name</th>\n",
              "      <th>Sales</th>\n",
              "      <th>Quantity</th>\n",
              "      <th>Discount</th>\n",
              "      <th>Profit</th>\n",
              "      <th>profit ratio</th>\n",
              "      <th>Profit-Flag</th>\n",
              "    </tr>\n",
              "  </thead>\n",
              "  <tbody>\n",
              "    <tr>\n",
              "      <th>0</th>\n",
              "      <td>1</td>\n",
              "      <td>ES-2017-1311038</td>\n",
              "      <td>07/02/2017</td>\n",
              "      <td>11/02/2017</td>\n",
              "      <td>Standard Class</td>\n",
              "      <td>AS-10045</td>\n",
              "      <td>Aaron Smayling</td>\n",
              "      <td>Corporate</td>\n",
              "      <td>Leeds</td>\n",
              "      <td>England</td>\n",
              "      <td>United Kingdom</td>\n",
              "      <td>North</td>\n",
              "      <td>OFF-ST-10000988</td>\n",
              "      <td>Office Supplies</td>\n",
              "      <td>Storage</td>\n",
              "      <td>Fellowes Folders, Blue</td>\n",
              "      <td>79.20</td>\n",
              "      <td>3</td>\n",
              "      <td>0.0</td>\n",
              "      <td>39.60</td>\n",
              "      <td>0.500000</td>\n",
              "      <td>Profitable</td>\n",
              "    </tr>\n",
              "    <tr>\n",
              "      <th>1</th>\n",
              "      <td>2</td>\n",
              "      <td>ES-2017-1311038</td>\n",
              "      <td>07/02/2017</td>\n",
              "      <td>11/02/2017</td>\n",
              "      <td>Standard Class</td>\n",
              "      <td>AS-10045</td>\n",
              "      <td>Aaron Smayling</td>\n",
              "      <td>Corporate</td>\n",
              "      <td>Leeds</td>\n",
              "      <td>England</td>\n",
              "      <td>United Kingdom</td>\n",
              "      <td>North</td>\n",
              "      <td>TEC-AC-10004144</td>\n",
              "      <td>Technology</td>\n",
              "      <td>Accessories</td>\n",
              "      <td>SanDisk Numeric Keypad, Bluetooth</td>\n",
              "      <td>388.92</td>\n",
              "      <td>7</td>\n",
              "      <td>0.0</td>\n",
              "      <td>0.00</td>\n",
              "      <td>0.000000</td>\n",
              "      <td>Profitable</td>\n",
              "    </tr>\n",
              "    <tr>\n",
              "      <th>2</th>\n",
              "      <td>3</td>\n",
              "      <td>ES-2017-1311038</td>\n",
              "      <td>07/02/2017</td>\n",
              "      <td>11/02/2017</td>\n",
              "      <td>Standard Class</td>\n",
              "      <td>AS-10045</td>\n",
              "      <td>Aaron Smayling</td>\n",
              "      <td>Corporate</td>\n",
              "      <td>Leeds</td>\n",
              "      <td>England</td>\n",
              "      <td>United Kingdom</td>\n",
              "      <td>North</td>\n",
              "      <td>OFF-LA-10001915</td>\n",
              "      <td>Office Supplies</td>\n",
              "      <td>Labels</td>\n",
              "      <td>Avery Legal Exhibit Labels, 5000 Label Set</td>\n",
              "      <td>35.19</td>\n",
              "      <td>3</td>\n",
              "      <td>0.0</td>\n",
              "      <td>16.11</td>\n",
              "      <td>0.457801</td>\n",
              "      <td>Profitable</td>\n",
              "    </tr>\n",
              "    <tr>\n",
              "      <th>3</th>\n",
              "      <td>4</td>\n",
              "      <td>ES-2017-1311038</td>\n",
              "      <td>07/02/2017</td>\n",
              "      <td>11/02/2017</td>\n",
              "      <td>Standard Class</td>\n",
              "      <td>AS-10045</td>\n",
              "      <td>Aaron Smayling</td>\n",
              "      <td>Corporate</td>\n",
              "      <td>Leeds</td>\n",
              "      <td>England</td>\n",
              "      <td>United Kingdom</td>\n",
              "      <td>North</td>\n",
              "      <td>OFF-ST-10004550</td>\n",
              "      <td>Office Supplies</td>\n",
              "      <td>Storage</td>\n",
              "      <td>Fellowes Folders, Wire Frame</td>\n",
              "      <td>50.94</td>\n",
              "      <td>2</td>\n",
              "      <td>0.0</td>\n",
              "      <td>13.20</td>\n",
              "      <td>0.259128</td>\n",
              "      <td>Profitable</td>\n",
              "    </tr>\n",
              "    <tr>\n",
              "      <th>4</th>\n",
              "      <td>5</td>\n",
              "      <td>ES-2017-1311038</td>\n",
              "      <td>07/02/2017</td>\n",
              "      <td>11/02/2017</td>\n",
              "      <td>Standard Class</td>\n",
              "      <td>AS-10045</td>\n",
              "      <td>Aaron Smayling</td>\n",
              "      <td>Corporate</td>\n",
              "      <td>Leeds</td>\n",
              "      <td>England</td>\n",
              "      <td>United Kingdom</td>\n",
              "      <td>North</td>\n",
              "      <td>TEC-AC-10004068</td>\n",
              "      <td>Technology</td>\n",
              "      <td>Accessories</td>\n",
              "      <td>Memorex Memory Card, USB</td>\n",
              "      <td>307.44</td>\n",
              "      <td>3</td>\n",
              "      <td>0.0</td>\n",
              "      <td>73.71</td>\n",
              "      <td>0.239754</td>\n",
              "      <td>Profitable</td>\n",
              "    </tr>\n",
              "  </tbody>\n",
              "</table>\n",
              "</div>"
            ],
            "text/plain": [
              "   Row ID         Order ID  Order Date  ... Profit profit ratio Profit-Flag\n",
              "0       1  ES-2017-1311038  07/02/2017  ...  39.60     0.500000  Profitable\n",
              "1       2  ES-2017-1311038  07/02/2017  ...   0.00     0.000000  Profitable\n",
              "2       3  ES-2017-1311038  07/02/2017  ...  16.11     0.457801  Profitable\n",
              "3       4  ES-2017-1311038  07/02/2017  ...  13.20     0.259128  Profitable\n",
              "4       5  ES-2017-1311038  07/02/2017  ...  73.71     0.239754  Profitable\n",
              "\n",
              "[5 rows x 22 columns]"
            ]
          },
          "metadata": {
            "tags": []
          },
          "execution_count": 22
        }
      ]
    },
    {
      "cell_type": "code",
      "metadata": {
        "id": "1BjxUAqxFJfN",
        "colab": {
          "base_uri": "https://localhost:8080/"
        },
        "outputId": "5a691145-3f70-4074-cdcb-fbc575bdadef"
      },
      "source": [
        "# What if I want a function that uses data from multiple columns?\n",
        "# For example I want to see if the dat between shipping and Ordering is larger than 7 days and flag the order as 'delayed' in that case\n",
        "\n",
        "# use a function that take a whole row as an argument\n",
        "\n",
        "#this is a good time to learn about dates and timestamps. You can find some info here:\n",
        "#https://docs.python.org/3/library/datetime.html\n",
        "from datetime import datetime\n",
        "from datetime import timedelta\n",
        "\n",
        "def delayed(row):\n",
        "    delay = datetime.strptime(row['Ship Date'],'%d/%m/%Y')-datetime.strptime(row['Order Date'],'%d/%m/%Y')\n",
        "    #essentially converts the date strings from the original table into internal time representations and computes the difference in times \n",
        "    if delay>timedelta(days=7):\n",
        "        #Timedelta represent a period of x days\n",
        "        return 'Delayed'\n",
        "    else:\n",
        "        return 'On-time'\n",
        "\n",
        "#atetime.strptime('10/02/2017','%d/%m/%Y')-datetime.strptime('07/02/2017','%d/%m/%Y')"
      ],
      "execution_count": null,
      "outputs": [
        {
          "output_type": "execute_result",
          "data": {
            "text/plain": [
              "datetime.timedelta(days=3)"
            ]
          },
          "metadata": {
            "tags": []
          },
          "execution_count": 31
        }
      ]
    },
    {
      "cell_type": "code",
      "metadata": {
        "colab": {
          "base_uri": "https://localhost:8080/",
          "height": 513
        },
        "id": "2IghDOhJ0bN1",
        "outputId": "c93e2542-870e-49f0-a1f0-a023f83cce37"
      },
      "source": [
        "#to run your function over all rows, you ahve to pass along the argument \"axis=1\"\n",
        "superstore['Delayed?'] = superstore.apply(delayed, axis=1)\n",
        "superstore.head()"
      ],
      "execution_count": null,
      "outputs": [
        {
          "output_type": "execute_result",
          "data": {
            "text/html": [
              "<div>\n",
              "<style scoped>\n",
              "    .dataframe tbody tr th:only-of-type {\n",
              "        vertical-align: middle;\n",
              "    }\n",
              "\n",
              "    .dataframe tbody tr th {\n",
              "        vertical-align: top;\n",
              "    }\n",
              "\n",
              "    .dataframe thead th {\n",
              "        text-align: right;\n",
              "    }\n",
              "</style>\n",
              "<table border=\"1\" class=\"dataframe\">\n",
              "  <thead>\n",
              "    <tr style=\"text-align: right;\">\n",
              "      <th></th>\n",
              "      <th>Row ID</th>\n",
              "      <th>Order ID</th>\n",
              "      <th>Order Date</th>\n",
              "      <th>Ship Date</th>\n",
              "      <th>Ship Mode</th>\n",
              "      <th>Customer ID</th>\n",
              "      <th>Customer Name</th>\n",
              "      <th>Segment</th>\n",
              "      <th>City</th>\n",
              "      <th>State</th>\n",
              "      <th>Country</th>\n",
              "      <th>Region</th>\n",
              "      <th>Product ID</th>\n",
              "      <th>Category</th>\n",
              "      <th>Sub-Category</th>\n",
              "      <th>Product Name</th>\n",
              "      <th>Sales</th>\n",
              "      <th>Quantity</th>\n",
              "      <th>Discount</th>\n",
              "      <th>Profit</th>\n",
              "      <th>Delayed?</th>\n",
              "    </tr>\n",
              "  </thead>\n",
              "  <tbody>\n",
              "    <tr>\n",
              "      <th>0</th>\n",
              "      <td>1</td>\n",
              "      <td>ES-2017-1311038</td>\n",
              "      <td>07/02/2017</td>\n",
              "      <td>11/02/2017</td>\n",
              "      <td>Standard Class</td>\n",
              "      <td>AS-10045</td>\n",
              "      <td>Aaron Smayling</td>\n",
              "      <td>Corporate</td>\n",
              "      <td>Leeds</td>\n",
              "      <td>England</td>\n",
              "      <td>United Kingdom</td>\n",
              "      <td>North</td>\n",
              "      <td>OFF-ST-10000988</td>\n",
              "      <td>Office Supplies</td>\n",
              "      <td>Storage</td>\n",
              "      <td>Fellowes Folders, Blue</td>\n",
              "      <td>79.20</td>\n",
              "      <td>3</td>\n",
              "      <td>0.0</td>\n",
              "      <td>39.60</td>\n",
              "      <td>On-time</td>\n",
              "    </tr>\n",
              "    <tr>\n",
              "      <th>1</th>\n",
              "      <td>2</td>\n",
              "      <td>ES-2017-1311038</td>\n",
              "      <td>07/02/2017</td>\n",
              "      <td>11/02/2017</td>\n",
              "      <td>Standard Class</td>\n",
              "      <td>AS-10045</td>\n",
              "      <td>Aaron Smayling</td>\n",
              "      <td>Corporate</td>\n",
              "      <td>Leeds</td>\n",
              "      <td>England</td>\n",
              "      <td>United Kingdom</td>\n",
              "      <td>North</td>\n",
              "      <td>TEC-AC-10004144</td>\n",
              "      <td>Technology</td>\n",
              "      <td>Accessories</td>\n",
              "      <td>SanDisk Numeric Keypad, Bluetooth</td>\n",
              "      <td>388.92</td>\n",
              "      <td>7</td>\n",
              "      <td>0.0</td>\n",
              "      <td>0.00</td>\n",
              "      <td>On-time</td>\n",
              "    </tr>\n",
              "    <tr>\n",
              "      <th>2</th>\n",
              "      <td>3</td>\n",
              "      <td>ES-2017-1311038</td>\n",
              "      <td>07/02/2017</td>\n",
              "      <td>11/02/2017</td>\n",
              "      <td>Standard Class</td>\n",
              "      <td>AS-10045</td>\n",
              "      <td>Aaron Smayling</td>\n",
              "      <td>Corporate</td>\n",
              "      <td>Leeds</td>\n",
              "      <td>England</td>\n",
              "      <td>United Kingdom</td>\n",
              "      <td>North</td>\n",
              "      <td>OFF-LA-10001915</td>\n",
              "      <td>Office Supplies</td>\n",
              "      <td>Labels</td>\n",
              "      <td>Avery Legal Exhibit Labels, 5000 Label Set</td>\n",
              "      <td>35.19</td>\n",
              "      <td>3</td>\n",
              "      <td>0.0</td>\n",
              "      <td>16.11</td>\n",
              "      <td>On-time</td>\n",
              "    </tr>\n",
              "    <tr>\n",
              "      <th>3</th>\n",
              "      <td>4</td>\n",
              "      <td>ES-2017-1311038</td>\n",
              "      <td>07/02/2017</td>\n",
              "      <td>11/02/2017</td>\n",
              "      <td>Standard Class</td>\n",
              "      <td>AS-10045</td>\n",
              "      <td>Aaron Smayling</td>\n",
              "      <td>Corporate</td>\n",
              "      <td>Leeds</td>\n",
              "      <td>England</td>\n",
              "      <td>United Kingdom</td>\n",
              "      <td>North</td>\n",
              "      <td>OFF-ST-10004550</td>\n",
              "      <td>Office Supplies</td>\n",
              "      <td>Storage</td>\n",
              "      <td>Fellowes Folders, Wire Frame</td>\n",
              "      <td>50.94</td>\n",
              "      <td>2</td>\n",
              "      <td>0.0</td>\n",
              "      <td>13.20</td>\n",
              "      <td>On-time</td>\n",
              "    </tr>\n",
              "    <tr>\n",
              "      <th>4</th>\n",
              "      <td>5</td>\n",
              "      <td>ES-2017-1311038</td>\n",
              "      <td>07/02/2017</td>\n",
              "      <td>11/02/2017</td>\n",
              "      <td>Standard Class</td>\n",
              "      <td>AS-10045</td>\n",
              "      <td>Aaron Smayling</td>\n",
              "      <td>Corporate</td>\n",
              "      <td>Leeds</td>\n",
              "      <td>England</td>\n",
              "      <td>United Kingdom</td>\n",
              "      <td>North</td>\n",
              "      <td>TEC-AC-10004068</td>\n",
              "      <td>Technology</td>\n",
              "      <td>Accessories</td>\n",
              "      <td>Memorex Memory Card, USB</td>\n",
              "      <td>307.44</td>\n",
              "      <td>3</td>\n",
              "      <td>0.0</td>\n",
              "      <td>73.71</td>\n",
              "      <td>On-time</td>\n",
              "    </tr>\n",
              "  </tbody>\n",
              "</table>\n",
              "</div>"
            ],
            "text/plain": [
              "   Row ID         Order ID  Order Date  ... Discount Profit Delayed?\n",
              "0       1  ES-2017-1311038  07/02/2017  ...      0.0  39.60  On-time\n",
              "1       2  ES-2017-1311038  07/02/2017  ...      0.0   0.00  On-time\n",
              "2       3  ES-2017-1311038  07/02/2017  ...      0.0  16.11  On-time\n",
              "3       4  ES-2017-1311038  07/02/2017  ...      0.0  13.20  On-time\n",
              "4       5  ES-2017-1311038  07/02/2017  ...      0.0  73.71  On-time\n",
              "\n",
              "[5 rows x 21 columns]"
            ]
          },
          "metadata": {
            "tags": []
          },
          "execution_count": 32
        }
      ]
    },
    {
      "cell_type": "code",
      "metadata": {
        "colab": {
          "base_uri": "https://localhost:8080/"
        },
        "id": "_Oy-tEyI2M3k",
        "outputId": "461e05bd-5198-416d-e15d-2cc74b1dee11"
      },
      "source": [
        "superstore['Segment'].value_counts()"
      ],
      "execution_count": null,
      "outputs": [
        {
          "output_type": "execute_result",
          "data": {
            "text/plain": [
              "Consumer       5186\n",
              "Corporate      3077\n",
              "Home Office    1737\n",
              "Name: Segment, dtype: int64"
            ]
          },
          "metadata": {
            "tags": []
          },
          "execution_count": 33
        }
      ]
    },
    {
      "cell_type": "code",
      "metadata": {
        "colab": {
          "base_uri": "https://localhost:8080/"
        },
        "id": "fyP7MTZA2dGz",
        "outputId": "7ec0b404-48c3-4448-ede1-a733f65eae02"
      },
      "source": [
        "superstore['Ship Mode'].value_counts()"
      ],
      "execution_count": null,
      "outputs": [
        {
          "output_type": "execute_result",
          "data": {
            "text/plain": [
              "Standard Class    6054\n",
              "Second Class      1976\n",
              "First Class       1454\n",
              "Same Day           516\n",
              "Name: Ship Mode, dtype: int64"
            ]
          },
          "metadata": {
            "tags": []
          },
          "execution_count": 34
        }
      ]
    },
    {
      "cell_type": "code",
      "metadata": {
        "id": "AQcU-SKFJ9z_"
      },
      "source": [
        "#do it yourself: create a function that categorizes an order as \"Priority 1\" if \n",
        "# - the Segment is Corporate and ship mode is First or Second Class\n",
        "# - the ship mode is First Class\n",
        "#and \"Priority 2\" otherwise "
      ],
      "execution_count": null,
      "outputs": []
    },
    {
      "cell_type": "code",
      "metadata": {
        "id": "znCdfRovVj5k"
      },
      "source": [
        "# solution \n",
        "def priority(row):\n",
        "  if (row['Segment'] == 'Corporate') & ((row['Ship Mode'] == 'First Class') | (row['Ship Mode'] == 'Second Class')):\n",
        "    return 'Priority 1'\n",
        "  elif (row['Ship Mode'] == 'First Class'):\n",
        "    return 'Priority 1'\n",
        "  else:\n",
        "    return 'Priority 2'\n",
        "\n",
        "superstore['Priority'] = superstore.apply(priority, axis = 1)\n",
        "\n",
        "superstore.tail(20)"
      ],
      "execution_count": null,
      "outputs": []
    },
    {
      "cell_type": "markdown",
      "metadata": {
        "id": "e0zabZkg0bN5"
      },
      "source": [
        "# Merging"
      ]
    },
    {
      "cell_type": "code",
      "metadata": {
        "id": "EdN5G8Z6NiZE"
      },
      "source": [
        "# Merging is the way to cross information from multiple datasources.\n",
        "#It is functionally the same as JOIN from SQL, even in the names of the methods\n",
        "returns = pd.read_excel(\"Sample - EU Superstore.xlsx\",sheet_name = \"Returns\")"
      ],
      "execution_count": null,
      "outputs": []
    },
    {
      "cell_type": "markdown",
      "metadata": {
        "id": "1udOYzBHPTOr"
      },
      "source": [
        ""
      ]
    },
    {
      "cell_type": "code",
      "metadata": {
        "colab": {
          "base_uri": "https://localhost:8080/",
          "height": 221
        },
        "id": "G7Ypq_9jOhdC",
        "outputId": "c593d1d2-a6c2-493d-9c7a-1bbacf134a67"
      },
      "source": [
        "display(returns.shape)\n",
        "returns.head()"
      ],
      "execution_count": null,
      "outputs": [
        {
          "output_type": "display_data",
          "data": {
            "text/plain": [
              "(284, 2)"
            ]
          },
          "metadata": {
            "tags": []
          }
        },
        {
          "output_type": "execute_result",
          "data": {
            "text/html": [
              "<div>\n",
              "<style scoped>\n",
              "    .dataframe tbody tr th:only-of-type {\n",
              "        vertical-align: middle;\n",
              "    }\n",
              "\n",
              "    .dataframe tbody tr th {\n",
              "        vertical-align: top;\n",
              "    }\n",
              "\n",
              "    .dataframe thead th {\n",
              "        text-align: right;\n",
              "    }\n",
              "</style>\n",
              "<table border=\"1\" class=\"dataframe\">\n",
              "  <thead>\n",
              "    <tr style=\"text-align: right;\">\n",
              "      <th></th>\n",
              "      <th>Order ID</th>\n",
              "      <th>Returned</th>\n",
              "    </tr>\n",
              "  </thead>\n",
              "  <tbody>\n",
              "    <tr>\n",
              "      <th>0</th>\n",
              "      <td>ES-2017-5389384</td>\n",
              "      <td>Yes</td>\n",
              "    </tr>\n",
              "    <tr>\n",
              "      <th>1</th>\n",
              "      <td>ES-2017-3638264</td>\n",
              "      <td>Yes</td>\n",
              "    </tr>\n",
              "    <tr>\n",
              "      <th>2</th>\n",
              "      <td>IT-2016-1498487</td>\n",
              "      <td>Yes</td>\n",
              "    </tr>\n",
              "    <tr>\n",
              "      <th>3</th>\n",
              "      <td>IT-2017-3941500</td>\n",
              "      <td>Yes</td>\n",
              "    </tr>\n",
              "    <tr>\n",
              "      <th>4</th>\n",
              "      <td>ES-2015-4840257</td>\n",
              "      <td>Yes</td>\n",
              "    </tr>\n",
              "  </tbody>\n",
              "</table>\n",
              "</div>"
            ],
            "text/plain": [
              "          Order ID Returned\n",
              "0  ES-2017-5389384      Yes\n",
              "1  ES-2017-3638264      Yes\n",
              "2  IT-2016-1498487      Yes\n",
              "3  IT-2017-3941500      Yes\n",
              "4  ES-2015-4840257      Yes"
            ]
          },
          "metadata": {
            "tags": []
          },
          "execution_count": 23
        }
      ]
    },
    {
      "cell_type": "code",
      "metadata": {
        "colab": {
          "base_uri": "https://localhost:8080/",
          "height": 530
        },
        "id": "H8GQl-UwOnOX",
        "outputId": "022f21d1-6279-4284-baa5-1e80cb1721fb"
      },
      "source": [
        "display(superstore.shape)\n",
        "\n",
        "superstore.head()"
      ],
      "execution_count": null,
      "outputs": [
        {
          "output_type": "display_data",
          "data": {
            "text/plain": [
              "(10000, 21)"
            ]
          },
          "metadata": {
            "tags": []
          }
        },
        {
          "output_type": "execute_result",
          "data": {
            "text/html": [
              "<div>\n",
              "<style scoped>\n",
              "    .dataframe tbody tr th:only-of-type {\n",
              "        vertical-align: middle;\n",
              "    }\n",
              "\n",
              "    .dataframe tbody tr th {\n",
              "        vertical-align: top;\n",
              "    }\n",
              "\n",
              "    .dataframe thead th {\n",
              "        text-align: right;\n",
              "    }\n",
              "</style>\n",
              "<table border=\"1\" class=\"dataframe\">\n",
              "  <thead>\n",
              "    <tr style=\"text-align: right;\">\n",
              "      <th></th>\n",
              "      <th>Row ID</th>\n",
              "      <th>Order ID</th>\n",
              "      <th>Order Date</th>\n",
              "      <th>Ship Date</th>\n",
              "      <th>Ship Mode</th>\n",
              "      <th>Customer ID</th>\n",
              "      <th>Customer Name</th>\n",
              "      <th>Segment</th>\n",
              "      <th>City</th>\n",
              "      <th>State</th>\n",
              "      <th>Country</th>\n",
              "      <th>Region</th>\n",
              "      <th>Product ID</th>\n",
              "      <th>Category</th>\n",
              "      <th>Sub-Category</th>\n",
              "      <th>Product Name</th>\n",
              "      <th>Sales</th>\n",
              "      <th>Quantity</th>\n",
              "      <th>Discount</th>\n",
              "      <th>Profit</th>\n",
              "      <th>Priority</th>\n",
              "    </tr>\n",
              "  </thead>\n",
              "  <tbody>\n",
              "    <tr>\n",
              "      <th>0</th>\n",
              "      <td>1</td>\n",
              "      <td>ES-2017-1311038</td>\n",
              "      <td>07/02/2017</td>\n",
              "      <td>11/02/2017</td>\n",
              "      <td>Standard Class</td>\n",
              "      <td>AS-10045</td>\n",
              "      <td>Aaron Smayling</td>\n",
              "      <td>Corporate</td>\n",
              "      <td>Leeds</td>\n",
              "      <td>England</td>\n",
              "      <td>United Kingdom</td>\n",
              "      <td>North</td>\n",
              "      <td>OFF-ST-10000988</td>\n",
              "      <td>Office Supplies</td>\n",
              "      <td>Storage</td>\n",
              "      <td>Fellowes Folders, Blue</td>\n",
              "      <td>79.20</td>\n",
              "      <td>3</td>\n",
              "      <td>0.0</td>\n",
              "      <td>39.60</td>\n",
              "      <td>Priority 2</td>\n",
              "    </tr>\n",
              "    <tr>\n",
              "      <th>1</th>\n",
              "      <td>2</td>\n",
              "      <td>ES-2017-1311038</td>\n",
              "      <td>07/02/2017</td>\n",
              "      <td>11/02/2017</td>\n",
              "      <td>Standard Class</td>\n",
              "      <td>AS-10045</td>\n",
              "      <td>Aaron Smayling</td>\n",
              "      <td>Corporate</td>\n",
              "      <td>Leeds</td>\n",
              "      <td>England</td>\n",
              "      <td>United Kingdom</td>\n",
              "      <td>North</td>\n",
              "      <td>TEC-AC-10004144</td>\n",
              "      <td>Technology</td>\n",
              "      <td>Accessories</td>\n",
              "      <td>SanDisk Numeric Keypad, Bluetooth</td>\n",
              "      <td>388.92</td>\n",
              "      <td>7</td>\n",
              "      <td>0.0</td>\n",
              "      <td>0.00</td>\n",
              "      <td>Priority 2</td>\n",
              "    </tr>\n",
              "    <tr>\n",
              "      <th>2</th>\n",
              "      <td>3</td>\n",
              "      <td>ES-2017-1311038</td>\n",
              "      <td>07/02/2017</td>\n",
              "      <td>11/02/2017</td>\n",
              "      <td>Standard Class</td>\n",
              "      <td>AS-10045</td>\n",
              "      <td>Aaron Smayling</td>\n",
              "      <td>Corporate</td>\n",
              "      <td>Leeds</td>\n",
              "      <td>England</td>\n",
              "      <td>United Kingdom</td>\n",
              "      <td>North</td>\n",
              "      <td>OFF-LA-10001915</td>\n",
              "      <td>Office Supplies</td>\n",
              "      <td>Labels</td>\n",
              "      <td>Avery Legal Exhibit Labels, 5000 Label Set</td>\n",
              "      <td>35.19</td>\n",
              "      <td>3</td>\n",
              "      <td>0.0</td>\n",
              "      <td>16.11</td>\n",
              "      <td>Priority 2</td>\n",
              "    </tr>\n",
              "    <tr>\n",
              "      <th>3</th>\n",
              "      <td>4</td>\n",
              "      <td>ES-2017-1311038</td>\n",
              "      <td>07/02/2017</td>\n",
              "      <td>11/02/2017</td>\n",
              "      <td>Standard Class</td>\n",
              "      <td>AS-10045</td>\n",
              "      <td>Aaron Smayling</td>\n",
              "      <td>Corporate</td>\n",
              "      <td>Leeds</td>\n",
              "      <td>England</td>\n",
              "      <td>United Kingdom</td>\n",
              "      <td>North</td>\n",
              "      <td>OFF-ST-10004550</td>\n",
              "      <td>Office Supplies</td>\n",
              "      <td>Storage</td>\n",
              "      <td>Fellowes Folders, Wire Frame</td>\n",
              "      <td>50.94</td>\n",
              "      <td>2</td>\n",
              "      <td>0.0</td>\n",
              "      <td>13.20</td>\n",
              "      <td>Priority 2</td>\n",
              "    </tr>\n",
              "    <tr>\n",
              "      <th>4</th>\n",
              "      <td>5</td>\n",
              "      <td>ES-2017-1311038</td>\n",
              "      <td>07/02/2017</td>\n",
              "      <td>11/02/2017</td>\n",
              "      <td>Standard Class</td>\n",
              "      <td>AS-10045</td>\n",
              "      <td>Aaron Smayling</td>\n",
              "      <td>Corporate</td>\n",
              "      <td>Leeds</td>\n",
              "      <td>England</td>\n",
              "      <td>United Kingdom</td>\n",
              "      <td>North</td>\n",
              "      <td>TEC-AC-10004068</td>\n",
              "      <td>Technology</td>\n",
              "      <td>Accessories</td>\n",
              "      <td>Memorex Memory Card, USB</td>\n",
              "      <td>307.44</td>\n",
              "      <td>3</td>\n",
              "      <td>0.0</td>\n",
              "      <td>73.71</td>\n",
              "      <td>Priority 2</td>\n",
              "    </tr>\n",
              "  </tbody>\n",
              "</table>\n",
              "</div>"
            ],
            "text/plain": [
              "   Row ID         Order ID  Order Date  ... Discount Profit    Priority\n",
              "0       1  ES-2017-1311038  07/02/2017  ...      0.0  39.60  Priority 2\n",
              "1       2  ES-2017-1311038  07/02/2017  ...      0.0   0.00  Priority 2\n",
              "2       3  ES-2017-1311038  07/02/2017  ...      0.0  16.11  Priority 2\n",
              "3       4  ES-2017-1311038  07/02/2017  ...      0.0  13.20  Priority 2\n",
              "4       5  ES-2017-1311038  07/02/2017  ...      0.0  73.71  Priority 2\n",
              "\n",
              "[5 rows x 21 columns]"
            ]
          },
          "metadata": {
            "tags": []
          },
          "execution_count": 24
        }
      ]
    },
    {
      "cell_type": "code",
      "metadata": {
        "colab": {
          "base_uri": "https://localhost:8080/",
          "height": 517
        },
        "id": "KKIWl8zg0bOA",
        "outputId": "15f3443f-6b51-46ba-d325-4954c2694968"
      },
      "source": [
        "#if we want details only on the returned orders\n",
        "just_returned_details = pd.merge(left = superstore,\n",
        "                                 right = returns,\n",
        "                                 how = 'inner', \n",
        "                                 left_on = \"Order ID\", \n",
        "                                 right_on= \"Order ID\")\n",
        "display(just_returned_details.shape)\n",
        "just_returned_details.head()"
      ],
      "execution_count": null,
      "outputs": [
        {
          "output_type": "display_data",
          "data": {
            "text/plain": [
              "(637, 32)"
            ]
          },
          "metadata": {
            "tags": []
          }
        },
        {
          "output_type": "execute_result",
          "data": {
            "text/html": [
              "<div>\n",
              "<style scoped>\n",
              "    .dataframe tbody tr th:only-of-type {\n",
              "        vertical-align: middle;\n",
              "    }\n",
              "\n",
              "    .dataframe tbody tr th {\n",
              "        vertical-align: top;\n",
              "    }\n",
              "\n",
              "    .dataframe thead th {\n",
              "        text-align: right;\n",
              "    }\n",
              "</style>\n",
              "<table border=\"1\" class=\"dataframe\">\n",
              "  <thead>\n",
              "    <tr style=\"text-align: right;\">\n",
              "      <th></th>\n",
              "      <th>Row ID</th>\n",
              "      <th>Order ID</th>\n",
              "      <th>Order Date</th>\n",
              "      <th>Ship Date</th>\n",
              "      <th>Ship Mode</th>\n",
              "      <th>Customer ID</th>\n",
              "      <th>Customer Name</th>\n",
              "      <th>Segment</th>\n",
              "      <th>City</th>\n",
              "      <th>State</th>\n",
              "      <th>Country</th>\n",
              "      <th>Region</th>\n",
              "      <th>Product ID</th>\n",
              "      <th>Category</th>\n",
              "      <th>Sub-Category</th>\n",
              "      <th>Product Name</th>\n",
              "      <th>Sales</th>\n",
              "      <th>Quantity</th>\n",
              "      <th>Discount</th>\n",
              "      <th>Profit</th>\n",
              "      <th>Unitary price</th>\n",
              "      <th>Large sale</th>\n",
              "      <th>Large Sales</th>\n",
              "      <th>Large Quantity</th>\n",
              "      <th>Salesmean</th>\n",
              "      <th>Large Quantity and Sales</th>\n",
              "      <th>Large Quantity or Sales</th>\n",
              "      <th>not Large Quantity</th>\n",
              "      <th>profit ratio</th>\n",
              "      <th>Profit-Flag</th>\n",
              "      <th>Delayed?</th>\n",
              "      <th>Returned</th>\n",
              "    </tr>\n",
              "  </thead>\n",
              "  <tbody>\n",
              "    <tr>\n",
              "      <th>0</th>\n",
              "      <td>27</td>\n",
              "      <td>ES-2017-2557751</td>\n",
              "      <td>28/02/2017</td>\n",
              "      <td>04/03/2017</td>\n",
              "      <td>Standard Class</td>\n",
              "      <td>SP-20920</td>\n",
              "      <td>Susan Pistek</td>\n",
              "      <td>Consumer</td>\n",
              "      <td>Heilbronn</td>\n",
              "      <td>Baden-Württemberg</td>\n",
              "      <td>Germany</td>\n",
              "      <td>Central</td>\n",
              "      <td>TEC-MA-10000946</td>\n",
              "      <td>Technology</td>\n",
              "      <td>Machines</td>\n",
              "      <td>Panasonic Calculator, Red</td>\n",
              "      <td>332.010</td>\n",
              "      <td>7</td>\n",
              "      <td>0.0</td>\n",
              "      <td>112.770</td>\n",
              "      <td>47.430</td>\n",
              "      <td>True</td>\n",
              "      <td>True</td>\n",
              "      <td>True</td>\n",
              "      <td>293.808906</td>\n",
              "      <td>True</td>\n",
              "      <td>True</td>\n",
              "      <td>False</td>\n",
              "      <td>0.339658</td>\n",
              "      <td>Very Profitable</td>\n",
              "      <td>On-time</td>\n",
              "      <td>Yes</td>\n",
              "    </tr>\n",
              "    <tr>\n",
              "      <th>1</th>\n",
              "      <td>28</td>\n",
              "      <td>ES-2017-2557751</td>\n",
              "      <td>28/02/2017</td>\n",
              "      <td>04/03/2017</td>\n",
              "      <td>Standard Class</td>\n",
              "      <td>SP-20920</td>\n",
              "      <td>Susan Pistek</td>\n",
              "      <td>Consumer</td>\n",
              "      <td>Heilbronn</td>\n",
              "      <td>Baden-Württemberg</td>\n",
              "      <td>Germany</td>\n",
              "      <td>Central</td>\n",
              "      <td>OFF-ST-10004409</td>\n",
              "      <td>Office Supplies</td>\n",
              "      <td>Storage</td>\n",
              "      <td>Rogers Box, Industrial</td>\n",
              "      <td>110.025</td>\n",
              "      <td>5</td>\n",
              "      <td>0.1</td>\n",
              "      <td>-12.225</td>\n",
              "      <td>22.005</td>\n",
              "      <td>True</td>\n",
              "      <td>False</td>\n",
              "      <td>False</td>\n",
              "      <td>293.808906</td>\n",
              "      <td>False</td>\n",
              "      <td>False</td>\n",
              "      <td>True</td>\n",
              "      <td>-0.111111</td>\n",
              "      <td>Not Profitable</td>\n",
              "      <td>On-time</td>\n",
              "      <td>Yes</td>\n",
              "    </tr>\n",
              "    <tr>\n",
              "      <th>2</th>\n",
              "      <td>29</td>\n",
              "      <td>ES-2017-2557751</td>\n",
              "      <td>28/02/2017</td>\n",
              "      <td>04/03/2017</td>\n",
              "      <td>Standard Class</td>\n",
              "      <td>SP-20920</td>\n",
              "      <td>Susan Pistek</td>\n",
              "      <td>Consumer</td>\n",
              "      <td>Heilbronn</td>\n",
              "      <td>Baden-Württemberg</td>\n",
              "      <td>Germany</td>\n",
              "      <td>Central</td>\n",
              "      <td>OFF-FA-10000146</td>\n",
              "      <td>Office Supplies</td>\n",
              "      <td>Fasteners</td>\n",
              "      <td>Stockwell Rubber Bands, Assorted Sizes</td>\n",
              "      <td>41.940</td>\n",
              "      <td>3</td>\n",
              "      <td>0.0</td>\n",
              "      <td>7.920</td>\n",
              "      <td>13.980</td>\n",
              "      <td>False</td>\n",
              "      <td>False</td>\n",
              "      <td>False</td>\n",
              "      <td>293.808906</td>\n",
              "      <td>False</td>\n",
              "      <td>False</td>\n",
              "      <td>True</td>\n",
              "      <td>0.188841</td>\n",
              "      <td>Profitable</td>\n",
              "      <td>On-time</td>\n",
              "      <td>Yes</td>\n",
              "    </tr>\n",
              "    <tr>\n",
              "      <th>3</th>\n",
              "      <td>60</td>\n",
              "      <td>ES-2016-4569090</td>\n",
              "      <td>29/08/2016</td>\n",
              "      <td>03/09/2016</td>\n",
              "      <td>Standard Class</td>\n",
              "      <td>GA-14725</td>\n",
              "      <td>Guy Armstrong</td>\n",
              "      <td>Consumer</td>\n",
              "      <td>Rome</td>\n",
              "      <td>Lazio</td>\n",
              "      <td>Italy</td>\n",
              "      <td>South</td>\n",
              "      <td>OFF-AR-10000316</td>\n",
              "      <td>Office Supplies</td>\n",
              "      <td>Art</td>\n",
              "      <td>Stanley Pens, Blue</td>\n",
              "      <td>30.150</td>\n",
              "      <td>3</td>\n",
              "      <td>0.0</td>\n",
              "      <td>14.760</td>\n",
              "      <td>10.050</td>\n",
              "      <td>False</td>\n",
              "      <td>False</td>\n",
              "      <td>False</td>\n",
              "      <td>293.808906</td>\n",
              "      <td>False</td>\n",
              "      <td>False</td>\n",
              "      <td>True</td>\n",
              "      <td>0.489552</td>\n",
              "      <td>Profitable</td>\n",
              "      <td>On-time</td>\n",
              "      <td>Yes</td>\n",
              "    </tr>\n",
              "    <tr>\n",
              "      <th>4</th>\n",
              "      <td>61</td>\n",
              "      <td>ES-2016-4569090</td>\n",
              "      <td>29/08/2016</td>\n",
              "      <td>03/09/2016</td>\n",
              "      <td>Standard Class</td>\n",
              "      <td>GA-14725</td>\n",
              "      <td>Guy Armstrong</td>\n",
              "      <td>Consumer</td>\n",
              "      <td>Rome</td>\n",
              "      <td>Lazio</td>\n",
              "      <td>Italy</td>\n",
              "      <td>South</td>\n",
              "      <td>TEC-MA-10002844</td>\n",
              "      <td>Technology</td>\n",
              "      <td>Machines</td>\n",
              "      <td>Okidata Receipt Printer, White</td>\n",
              "      <td>145.584</td>\n",
              "      <td>2</td>\n",
              "      <td>0.4</td>\n",
              "      <td>-82.536</td>\n",
              "      <td>72.792</td>\n",
              "      <td>True</td>\n",
              "      <td>False</td>\n",
              "      <td>False</td>\n",
              "      <td>293.808906</td>\n",
              "      <td>False</td>\n",
              "      <td>False</td>\n",
              "      <td>True</td>\n",
              "      <td>-0.566930</td>\n",
              "      <td>Not Profitable</td>\n",
              "      <td>On-time</td>\n",
              "      <td>Yes</td>\n",
              "    </tr>\n",
              "  </tbody>\n",
              "</table>\n",
              "</div>"
            ],
            "text/plain": [
              "   Row ID         Order ID  Order Date  ...      Profit-Flag Delayed? Returned\n",
              "0      27  ES-2017-2557751  28/02/2017  ...  Very Profitable  On-time      Yes\n",
              "1      28  ES-2017-2557751  28/02/2017  ...   Not Profitable  On-time      Yes\n",
              "2      29  ES-2017-2557751  28/02/2017  ...       Profitable  On-time      Yes\n",
              "3      60  ES-2016-4569090  29/08/2016  ...       Profitable  On-time      Yes\n",
              "4      61  ES-2016-4569090  29/08/2016  ...   Not Profitable  On-time      Yes\n",
              "\n",
              "[5 rows x 32 columns]"
            ]
          },
          "metadata": {
            "tags": []
          },
          "execution_count": 69
        }
      ]
    },
    {
      "cell_type": "code",
      "metadata": {
        "colab": {
          "base_uri": "https://localhost:8080/",
          "height": 569
        },
        "id": "wa88Mqb0O7RR",
        "outputId": "8f9442cd-696a-4658-b7aa-7a9829535ddf"
      },
      "source": [
        "# if we want to keep all orders, and just flag the returned ones, we can do a left merge\n",
        "just_returned_addition = pd.merge(left = superstore,\n",
        "                                  right = returns,\n",
        "                                  how = 'left', \n",
        "                                  left_on = \"Order ID\", \n",
        "                                  right_on= \"Order ID\")\n",
        "display(just_returned_addition.shape)\n",
        "just_returned_addition.head()"
      ],
      "execution_count": null,
      "outputs": [
        {
          "output_type": "display_data",
          "data": {
            "text/plain": [
              "(10000, 32)"
            ]
          },
          "metadata": {
            "tags": []
          }
        },
        {
          "output_type": "execute_result",
          "data": {
            "text/html": [
              "<div>\n",
              "<style scoped>\n",
              "    .dataframe tbody tr th:only-of-type {\n",
              "        vertical-align: middle;\n",
              "    }\n",
              "\n",
              "    .dataframe tbody tr th {\n",
              "        vertical-align: top;\n",
              "    }\n",
              "\n",
              "    .dataframe thead th {\n",
              "        text-align: right;\n",
              "    }\n",
              "</style>\n",
              "<table border=\"1\" class=\"dataframe\">\n",
              "  <thead>\n",
              "    <tr style=\"text-align: right;\">\n",
              "      <th></th>\n",
              "      <th>Row ID</th>\n",
              "      <th>Order ID</th>\n",
              "      <th>Order Date</th>\n",
              "      <th>Ship Date</th>\n",
              "      <th>Ship Mode</th>\n",
              "      <th>Customer ID</th>\n",
              "      <th>Customer Name</th>\n",
              "      <th>Segment</th>\n",
              "      <th>City</th>\n",
              "      <th>State</th>\n",
              "      <th>Country</th>\n",
              "      <th>Region</th>\n",
              "      <th>Product ID</th>\n",
              "      <th>Category</th>\n",
              "      <th>Sub-Category</th>\n",
              "      <th>Product Name</th>\n",
              "      <th>Sales</th>\n",
              "      <th>Quantity</th>\n",
              "      <th>Discount</th>\n",
              "      <th>Profit</th>\n",
              "      <th>Unitary price</th>\n",
              "      <th>Large sale</th>\n",
              "      <th>Large Sales</th>\n",
              "      <th>Large Quantity</th>\n",
              "      <th>Salesmean</th>\n",
              "      <th>Large Quantity and Sales</th>\n",
              "      <th>Large Quantity or Sales</th>\n",
              "      <th>not Large Quantity</th>\n",
              "      <th>profit ratio</th>\n",
              "      <th>Profit-Flag</th>\n",
              "      <th>Delayed?</th>\n",
              "      <th>Returned</th>\n",
              "    </tr>\n",
              "  </thead>\n",
              "  <tbody>\n",
              "    <tr>\n",
              "      <th>0</th>\n",
              "      <td>1</td>\n",
              "      <td>ES-2017-1311038</td>\n",
              "      <td>07/02/2017</td>\n",
              "      <td>11/02/2017</td>\n",
              "      <td>Standard Class</td>\n",
              "      <td>AS-10045</td>\n",
              "      <td>Aaron Smayling</td>\n",
              "      <td>Corporate</td>\n",
              "      <td>Leeds</td>\n",
              "      <td>England</td>\n",
              "      <td>United Kingdom</td>\n",
              "      <td>North</td>\n",
              "      <td>OFF-ST-10000988</td>\n",
              "      <td>Office Supplies</td>\n",
              "      <td>Storage</td>\n",
              "      <td>Fellowes Folders, Blue</td>\n",
              "      <td>79.20</td>\n",
              "      <td>3</td>\n",
              "      <td>0.0</td>\n",
              "      <td>39.60</td>\n",
              "      <td>26.40</td>\n",
              "      <td>False</td>\n",
              "      <td>False</td>\n",
              "      <td>False</td>\n",
              "      <td>293.808906</td>\n",
              "      <td>False</td>\n",
              "      <td>False</td>\n",
              "      <td>True</td>\n",
              "      <td>0.500000</td>\n",
              "      <td>Profitable</td>\n",
              "      <td>On-time</td>\n",
              "      <td>NaN</td>\n",
              "    </tr>\n",
              "    <tr>\n",
              "      <th>1</th>\n",
              "      <td>2</td>\n",
              "      <td>ES-2017-1311038</td>\n",
              "      <td>07/02/2017</td>\n",
              "      <td>11/02/2017</td>\n",
              "      <td>Standard Class</td>\n",
              "      <td>AS-10045</td>\n",
              "      <td>Aaron Smayling</td>\n",
              "      <td>Corporate</td>\n",
              "      <td>Leeds</td>\n",
              "      <td>England</td>\n",
              "      <td>United Kingdom</td>\n",
              "      <td>North</td>\n",
              "      <td>TEC-AC-10004144</td>\n",
              "      <td>Technology</td>\n",
              "      <td>Accessories</td>\n",
              "      <td>SanDisk Numeric Keypad, Bluetooth</td>\n",
              "      <td>388.92</td>\n",
              "      <td>7</td>\n",
              "      <td>0.0</td>\n",
              "      <td>0.00</td>\n",
              "      <td>55.56</td>\n",
              "      <td>True</td>\n",
              "      <td>True</td>\n",
              "      <td>True</td>\n",
              "      <td>293.808906</td>\n",
              "      <td>True</td>\n",
              "      <td>True</td>\n",
              "      <td>False</td>\n",
              "      <td>0.000000</td>\n",
              "      <td>Profitable</td>\n",
              "      <td>On-time</td>\n",
              "      <td>NaN</td>\n",
              "    </tr>\n",
              "    <tr>\n",
              "      <th>2</th>\n",
              "      <td>3</td>\n",
              "      <td>ES-2017-1311038</td>\n",
              "      <td>07/02/2017</td>\n",
              "      <td>11/02/2017</td>\n",
              "      <td>Standard Class</td>\n",
              "      <td>AS-10045</td>\n",
              "      <td>Aaron Smayling</td>\n",
              "      <td>Corporate</td>\n",
              "      <td>Leeds</td>\n",
              "      <td>England</td>\n",
              "      <td>United Kingdom</td>\n",
              "      <td>North</td>\n",
              "      <td>OFF-LA-10001915</td>\n",
              "      <td>Office Supplies</td>\n",
              "      <td>Labels</td>\n",
              "      <td>Avery Legal Exhibit Labels, 5000 Label Set</td>\n",
              "      <td>35.19</td>\n",
              "      <td>3</td>\n",
              "      <td>0.0</td>\n",
              "      <td>16.11</td>\n",
              "      <td>11.73</td>\n",
              "      <td>False</td>\n",
              "      <td>False</td>\n",
              "      <td>False</td>\n",
              "      <td>293.808906</td>\n",
              "      <td>False</td>\n",
              "      <td>False</td>\n",
              "      <td>True</td>\n",
              "      <td>0.457801</td>\n",
              "      <td>Profitable</td>\n",
              "      <td>On-time</td>\n",
              "      <td>NaN</td>\n",
              "    </tr>\n",
              "    <tr>\n",
              "      <th>3</th>\n",
              "      <td>4</td>\n",
              "      <td>ES-2017-1311038</td>\n",
              "      <td>07/02/2017</td>\n",
              "      <td>11/02/2017</td>\n",
              "      <td>Standard Class</td>\n",
              "      <td>AS-10045</td>\n",
              "      <td>Aaron Smayling</td>\n",
              "      <td>Corporate</td>\n",
              "      <td>Leeds</td>\n",
              "      <td>England</td>\n",
              "      <td>United Kingdom</td>\n",
              "      <td>North</td>\n",
              "      <td>OFF-ST-10004550</td>\n",
              "      <td>Office Supplies</td>\n",
              "      <td>Storage</td>\n",
              "      <td>Fellowes Folders, Wire Frame</td>\n",
              "      <td>50.94</td>\n",
              "      <td>2</td>\n",
              "      <td>0.0</td>\n",
              "      <td>13.20</td>\n",
              "      <td>25.47</td>\n",
              "      <td>False</td>\n",
              "      <td>False</td>\n",
              "      <td>False</td>\n",
              "      <td>293.808906</td>\n",
              "      <td>False</td>\n",
              "      <td>False</td>\n",
              "      <td>True</td>\n",
              "      <td>0.259128</td>\n",
              "      <td>Profitable</td>\n",
              "      <td>On-time</td>\n",
              "      <td>NaN</td>\n",
              "    </tr>\n",
              "    <tr>\n",
              "      <th>4</th>\n",
              "      <td>5</td>\n",
              "      <td>ES-2017-1311038</td>\n",
              "      <td>07/02/2017</td>\n",
              "      <td>11/02/2017</td>\n",
              "      <td>Standard Class</td>\n",
              "      <td>AS-10045</td>\n",
              "      <td>Aaron Smayling</td>\n",
              "      <td>Corporate</td>\n",
              "      <td>Leeds</td>\n",
              "      <td>England</td>\n",
              "      <td>United Kingdom</td>\n",
              "      <td>North</td>\n",
              "      <td>TEC-AC-10004068</td>\n",
              "      <td>Technology</td>\n",
              "      <td>Accessories</td>\n",
              "      <td>Memorex Memory Card, USB</td>\n",
              "      <td>307.44</td>\n",
              "      <td>3</td>\n",
              "      <td>0.0</td>\n",
              "      <td>73.71</td>\n",
              "      <td>102.48</td>\n",
              "      <td>True</td>\n",
              "      <td>True</td>\n",
              "      <td>False</td>\n",
              "      <td>293.808906</td>\n",
              "      <td>False</td>\n",
              "      <td>True</td>\n",
              "      <td>True</td>\n",
              "      <td>0.239754</td>\n",
              "      <td>Profitable</td>\n",
              "      <td>On-time</td>\n",
              "      <td>NaN</td>\n",
              "    </tr>\n",
              "  </tbody>\n",
              "</table>\n",
              "</div>"
            ],
            "text/plain": [
              "   Row ID         Order ID  Order Date  ... Profit-Flag Delayed? Returned\n",
              "0       1  ES-2017-1311038  07/02/2017  ...  Profitable  On-time      NaN\n",
              "1       2  ES-2017-1311038  07/02/2017  ...  Profitable  On-time      NaN\n",
              "2       3  ES-2017-1311038  07/02/2017  ...  Profitable  On-time      NaN\n",
              "3       4  ES-2017-1311038  07/02/2017  ...  Profitable  On-time      NaN\n",
              "4       5  ES-2017-1311038  07/02/2017  ...  Profitable  On-time      NaN\n",
              "\n",
              "[5 rows x 32 columns]"
            ]
          },
          "metadata": {
            "tags": []
          },
          "execution_count": 70
        }
      ]
    },
    {
      "cell_type": "markdown",
      "metadata": {
        "id": "jXpmGoHI0bOF"
      },
      "source": [
        "# Melt and verticalization"
      ]
    },
    {
      "cell_type": "code",
      "metadata": {
        "colab": {
          "base_uri": "https://localhost:8080/",
          "height": 411
        },
        "id": "GkuWDpzB0bOF",
        "outputId": "52dbc984-28cd-42db-8778-17719e3fd911"
      },
      "source": [
        "# For some applications (like data visualization) we will want information to be verticalized, so we can filter on columns rather than rows\n",
        "# the typical example here is the calendar\n",
        "\n",
        "orders = pd.read_excel(\"orders.xlsx\")\n",
        "orders.head()\n",
        "\n",
        "#We may want to filter by month, for example"
      ],
      "execution_count": null,
      "outputs": [
        {
          "output_type": "execute_result",
          "data": {
            "text/html": [
              "<div>\n",
              "<style scoped>\n",
              "    .dataframe tbody tr th:only-of-type {\n",
              "        vertical-align: middle;\n",
              "    }\n",
              "\n",
              "    .dataframe tbody tr th {\n",
              "        vertical-align: top;\n",
              "    }\n",
              "\n",
              "    .dataframe thead th {\n",
              "        text-align: right;\n",
              "    }\n",
              "</style>\n",
              "<table border=\"1\" class=\"dataframe\">\n",
              "  <thead>\n",
              "    <tr style=\"text-align: right;\">\n",
              "      <th></th>\n",
              "      <th>Order ID</th>\n",
              "      <th>Ship Date</th>\n",
              "      <th>Ship Mode</th>\n",
              "      <th>City</th>\n",
              "      <th>State</th>\n",
              "      <th>Country</th>\n",
              "      <th>Region</th>\n",
              "      <th>Product ID</th>\n",
              "      <th>Jan</th>\n",
              "      <th>Feb</th>\n",
              "      <th>Mar</th>\n",
              "      <th>Apr</th>\n",
              "      <th>May</th>\n",
              "      <th>June</th>\n",
              "      <th>July</th>\n",
              "      <th>August</th>\n",
              "      <th>September</th>\n",
              "      <th>Oct</th>\n",
              "      <th>Nov</th>\n",
              "      <th>Dec</th>\n",
              "    </tr>\n",
              "  </thead>\n",
              "  <tbody>\n",
              "    <tr>\n",
              "      <th>0</th>\n",
              "      <td>ES-2014-1846006</td>\n",
              "      <td>2016-01-03</td>\n",
              "      <td>First Class</td>\n",
              "      <td>Paris</td>\n",
              "      <td>Ile-de-France</td>\n",
              "      <td>France</td>\n",
              "      <td>Central</td>\n",
              "      <td>FUR-BO-10001405</td>\n",
              "      <td>0.296785</td>\n",
              "      <td>0.740937</td>\n",
              "      <td>0.319342</td>\n",
              "      <td>0.664082</td>\n",
              "      <td>0.491991</td>\n",
              "      <td>0.279603</td>\n",
              "      <td>0.721468</td>\n",
              "      <td>0.827661</td>\n",
              "      <td>0.266435</td>\n",
              "      <td>0.593755</td>\n",
              "      <td>0.624222</td>\n",
              "      <td>0.666361</td>\n",
              "    </tr>\n",
              "    <tr>\n",
              "      <th>1</th>\n",
              "      <td>ES-2014-1846006</td>\n",
              "      <td>2016-01-03</td>\n",
              "      <td>First Class</td>\n",
              "      <td>Paris</td>\n",
              "      <td>Ile-de-France</td>\n",
              "      <td>France</td>\n",
              "      <td>Central</td>\n",
              "      <td>OFF-AP-10000977</td>\n",
              "      <td>0.920646</td>\n",
              "      <td>0.968545</td>\n",
              "      <td>0.171464</td>\n",
              "      <td>0.244247</td>\n",
              "      <td>0.025352</td>\n",
              "      <td>0.119380</td>\n",
              "      <td>0.931719</td>\n",
              "      <td>0.742272</td>\n",
              "      <td>0.886169</td>\n",
              "      <td>0.258289</td>\n",
              "      <td>0.523348</td>\n",
              "      <td>0.629398</td>\n",
              "    </tr>\n",
              "    <tr>\n",
              "      <th>2</th>\n",
              "      <td>ES-2014-1846006</td>\n",
              "      <td>2016-01-03</td>\n",
              "      <td>First Class</td>\n",
              "      <td>Paris</td>\n",
              "      <td>Ile-de-France</td>\n",
              "      <td>France</td>\n",
              "      <td>Central</td>\n",
              "      <td>OFF-BI-10002083</td>\n",
              "      <td>0.879809</td>\n",
              "      <td>0.363669</td>\n",
              "      <td>0.150853</td>\n",
              "      <td>0.888946</td>\n",
              "      <td>0.860743</td>\n",
              "      <td>0.648089</td>\n",
              "      <td>0.022201</td>\n",
              "      <td>0.637949</td>\n",
              "      <td>0.873964</td>\n",
              "      <td>0.738800</td>\n",
              "      <td>0.869995</td>\n",
              "      <td>0.182114</td>\n",
              "    </tr>\n",
              "    <tr>\n",
              "      <th>3</th>\n",
              "      <td>ES-2015-1001989</td>\n",
              "      <td>2015-03-15</td>\n",
              "      <td>First Class</td>\n",
              "      <td>Berlin</td>\n",
              "      <td>Berlin</td>\n",
              "      <td>Germany</td>\n",
              "      <td>Central</td>\n",
              "      <td>OFF-BI-10002570</td>\n",
              "      <td>0.258669</td>\n",
              "      <td>0.915954</td>\n",
              "      <td>0.207590</td>\n",
              "      <td>0.659243</td>\n",
              "      <td>0.656168</td>\n",
              "      <td>0.346124</td>\n",
              "      <td>0.227398</td>\n",
              "      <td>0.934574</td>\n",
              "      <td>0.639858</td>\n",
              "      <td>0.757322</td>\n",
              "      <td>0.921393</td>\n",
              "      <td>0.983744</td>\n",
              "    </tr>\n",
              "    <tr>\n",
              "      <th>4</th>\n",
              "      <td>ES-2015-1010958</td>\n",
              "      <td>2015-06-07</td>\n",
              "      <td>Standard Class</td>\n",
              "      <td>Deuil-la-Barre</td>\n",
              "      <td>Ile-de-France</td>\n",
              "      <td>France</td>\n",
              "      <td>Central</td>\n",
              "      <td>OFF-BI-10004924</td>\n",
              "      <td>0.283790</td>\n",
              "      <td>0.224399</td>\n",
              "      <td>0.518316</td>\n",
              "      <td>0.396888</td>\n",
              "      <td>0.709176</td>\n",
              "      <td>0.137325</td>\n",
              "      <td>0.771152</td>\n",
              "      <td>0.605851</td>\n",
              "      <td>0.209154</td>\n",
              "      <td>0.599237</td>\n",
              "      <td>0.209094</td>\n",
              "      <td>0.662120</td>\n",
              "    </tr>\n",
              "  </tbody>\n",
              "</table>\n",
              "</div>"
            ],
            "text/plain": [
              "          Order ID  Ship Date       Ship Mode  ...       Oct       Nov       Dec\n",
              "0  ES-2014-1846006 2016-01-03     First Class  ...  0.593755  0.624222  0.666361\n",
              "1  ES-2014-1846006 2016-01-03     First Class  ...  0.258289  0.523348  0.629398\n",
              "2  ES-2014-1846006 2016-01-03     First Class  ...  0.738800  0.869995  0.182114\n",
              "3  ES-2015-1001989 2015-03-15     First Class  ...  0.757322  0.921393  0.983744\n",
              "4  ES-2015-1010958 2015-06-07  Standard Class  ...  0.599237  0.209094  0.662120\n",
              "\n",
              "[5 rows x 20 columns]"
            ]
          },
          "metadata": {
            "tags": []
          },
          "execution_count": 25
        }
      ]
    },
    {
      "cell_type": "code",
      "metadata": {
        "colab": {
          "base_uri": "https://localhost:8080/",
          "height": 419
        },
        "id": "pwsWtLj4R-fu",
        "outputId": "af6ca527-9369-467c-af69-24d94b6690bd"
      },
      "source": [
        "#pd.melt( data to melt, columns to keep)\n",
        "columns = ['Order ID', 'Ship Date', \"Ship Mode\", 'City', 'State', 'Country','Region','Product ID']\n",
        "vertical = pd.melt(orders, id_vars= columns)\n",
        "vertical"
      ],
      "execution_count": null,
      "outputs": [
        {
          "output_type": "execute_result",
          "data": {
            "text/html": [
              "<div>\n",
              "<style scoped>\n",
              "    .dataframe tbody tr th:only-of-type {\n",
              "        vertical-align: middle;\n",
              "    }\n",
              "\n",
              "    .dataframe tbody tr th {\n",
              "        vertical-align: top;\n",
              "    }\n",
              "\n",
              "    .dataframe thead th {\n",
              "        text-align: right;\n",
              "    }\n",
              "</style>\n",
              "<table border=\"1\" class=\"dataframe\">\n",
              "  <thead>\n",
              "    <tr style=\"text-align: right;\">\n",
              "      <th></th>\n",
              "      <th>Order ID</th>\n",
              "      <th>Ship Date</th>\n",
              "      <th>Ship Mode</th>\n",
              "      <th>City</th>\n",
              "      <th>State</th>\n",
              "      <th>Country</th>\n",
              "      <th>Region</th>\n",
              "      <th>Product ID</th>\n",
              "      <th>variable</th>\n",
              "      <th>value</th>\n",
              "    </tr>\n",
              "  </thead>\n",
              "  <tbody>\n",
              "    <tr>\n",
              "      <th>0</th>\n",
              "      <td>ES-2014-1846006</td>\n",
              "      <td>2016-01-03</td>\n",
              "      <td>First Class</td>\n",
              "      <td>Paris</td>\n",
              "      <td>Ile-de-France</td>\n",
              "      <td>France</td>\n",
              "      <td>Central</td>\n",
              "      <td>FUR-BO-10001405</td>\n",
              "      <td>Jan</td>\n",
              "      <td>0.296785</td>\n",
              "    </tr>\n",
              "    <tr>\n",
              "      <th>1</th>\n",
              "      <td>ES-2014-1846006</td>\n",
              "      <td>2016-01-03</td>\n",
              "      <td>First Class</td>\n",
              "      <td>Paris</td>\n",
              "      <td>Ile-de-France</td>\n",
              "      <td>France</td>\n",
              "      <td>Central</td>\n",
              "      <td>OFF-AP-10000977</td>\n",
              "      <td>Jan</td>\n",
              "      <td>0.920646</td>\n",
              "    </tr>\n",
              "    <tr>\n",
              "      <th>2</th>\n",
              "      <td>ES-2014-1846006</td>\n",
              "      <td>2016-01-03</td>\n",
              "      <td>First Class</td>\n",
              "      <td>Paris</td>\n",
              "      <td>Ile-de-France</td>\n",
              "      <td>France</td>\n",
              "      <td>Central</td>\n",
              "      <td>OFF-BI-10002083</td>\n",
              "      <td>Jan</td>\n",
              "      <td>0.879809</td>\n",
              "    </tr>\n",
              "    <tr>\n",
              "      <th>3</th>\n",
              "      <td>ES-2015-1001989</td>\n",
              "      <td>2015-03-15</td>\n",
              "      <td>First Class</td>\n",
              "      <td>Berlin</td>\n",
              "      <td>Berlin</td>\n",
              "      <td>Germany</td>\n",
              "      <td>Central</td>\n",
              "      <td>OFF-BI-10002570</td>\n",
              "      <td>Jan</td>\n",
              "      <td>0.258669</td>\n",
              "    </tr>\n",
              "    <tr>\n",
              "      <th>4</th>\n",
              "      <td>ES-2015-1010958</td>\n",
              "      <td>2015-06-07</td>\n",
              "      <td>Standard Class</td>\n",
              "      <td>Deuil-la-Barre</td>\n",
              "      <td>Ile-de-France</td>\n",
              "      <td>France</td>\n",
              "      <td>Central</td>\n",
              "      <td>OFF-BI-10004924</td>\n",
              "      <td>Jan</td>\n",
              "      <td>0.283790</td>\n",
              "    </tr>\n",
              "    <tr>\n",
              "      <th>...</th>\n",
              "      <td>...</td>\n",
              "      <td>...</td>\n",
              "      <td>...</td>\n",
              "      <td>...</td>\n",
              "      <td>...</td>\n",
              "      <td>...</td>\n",
              "      <td>...</td>\n",
              "      <td>...</td>\n",
              "      <td>...</td>\n",
              "      <td>...</td>\n",
              "    </tr>\n",
              "    <tr>\n",
              "      <th>119923</th>\n",
              "      <td>IT-2018-5975833</td>\n",
              "      <td>2018-07-23</td>\n",
              "      <td>Standard Class</td>\n",
              "      <td>Essen</td>\n",
              "      <td>North Rhine-Westphalia</td>\n",
              "      <td>Germany</td>\n",
              "      <td>Central</td>\n",
              "      <td>OFF-AP-10000717</td>\n",
              "      <td>Dec</td>\n",
              "      <td>0.787444</td>\n",
              "    </tr>\n",
              "    <tr>\n",
              "      <th>119924</th>\n",
              "      <td>IT-2018-5984498</td>\n",
              "      <td>2018-10-06</td>\n",
              "      <td>Standard Class</td>\n",
              "      <td>Amsterdam</td>\n",
              "      <td>North Holland</td>\n",
              "      <td>Netherlands</td>\n",
              "      <td>Central</td>\n",
              "      <td>FUR-BO-10002680</td>\n",
              "      <td>Dec</td>\n",
              "      <td>0.624923</td>\n",
              "    </tr>\n",
              "    <tr>\n",
              "      <th>119925</th>\n",
              "      <td>IT-2018-5989338</td>\n",
              "      <td>2018-04-18</td>\n",
              "      <td>Standard Class</td>\n",
              "      <td>Pamiers</td>\n",
              "      <td>Languedoc-Roussillon-Midi-Pyrénées</td>\n",
              "      <td>France</td>\n",
              "      <td>Central</td>\n",
              "      <td>OFF-ST-10003785</td>\n",
              "      <td>Dec</td>\n",
              "      <td>0.619906</td>\n",
              "    </tr>\n",
              "    <tr>\n",
              "      <th>119926</th>\n",
              "      <td>IT-2018-5992832</td>\n",
              "      <td>2018-08-17</td>\n",
              "      <td>Second Class</td>\n",
              "      <td>Bottrop</td>\n",
              "      <td>North Rhine-Westphalia</td>\n",
              "      <td>Germany</td>\n",
              "      <td>Central</td>\n",
              "      <td>OFF-LA-10000707</td>\n",
              "      <td>Dec</td>\n",
              "      <td>0.802197</td>\n",
              "    </tr>\n",
              "    <tr>\n",
              "      <th>119927</th>\n",
              "      <td>IT-2018-5992832</td>\n",
              "      <td>2018-08-17</td>\n",
              "      <td>Second Class</td>\n",
              "      <td>Bottrop</td>\n",
              "      <td>North Rhine-Westphalia</td>\n",
              "      <td>Germany</td>\n",
              "      <td>Central</td>\n",
              "      <td>OFF-ST-10003785</td>\n",
              "      <td>Dec</td>\n",
              "      <td>0.972079</td>\n",
              "    </tr>\n",
              "  </tbody>\n",
              "</table>\n",
              "<p>119928 rows × 10 columns</p>\n",
              "</div>"
            ],
            "text/plain": [
              "               Order ID  Ship Date  ... variable     value\n",
              "0       ES-2014-1846006 2016-01-03  ...      Jan  0.296785\n",
              "1       ES-2014-1846006 2016-01-03  ...      Jan  0.920646\n",
              "2       ES-2014-1846006 2016-01-03  ...      Jan  0.879809\n",
              "3       ES-2015-1001989 2015-03-15  ...      Jan  0.258669\n",
              "4       ES-2015-1010958 2015-06-07  ...      Jan  0.283790\n",
              "...                 ...        ...  ...      ...       ...\n",
              "119923  IT-2018-5975833 2018-07-23  ...      Dec  0.787444\n",
              "119924  IT-2018-5984498 2018-10-06  ...      Dec  0.624923\n",
              "119925  IT-2018-5989338 2018-04-18  ...      Dec  0.619906\n",
              "119926  IT-2018-5992832 2018-08-17  ...      Dec  0.802197\n",
              "119927  IT-2018-5992832 2018-08-17  ...      Dec  0.972079\n",
              "\n",
              "[119928 rows x 10 columns]"
            ]
          },
          "metadata": {
            "tags": []
          },
          "execution_count": 26
        }
      ]
    },
    {
      "cell_type": "code",
      "metadata": {
        "colab": {
          "base_uri": "https://localhost:8080/",
          "height": 51
        },
        "id": "dCKwnGK2R3v5",
        "outputId": "6cefe734-4590-4473-978b-c06691c49b2c"
      },
      "source": [
        "display(orders.shape)\n",
        "display(vertical.shape)"
      ],
      "execution_count": null,
      "outputs": [
        {
          "output_type": "display_data",
          "data": {
            "text/plain": [
              "(9994, 20)"
            ]
          },
          "metadata": {
            "tags": []
          }
        },
        {
          "output_type": "display_data",
          "data": {
            "text/plain": [
              "(119928, 10)"
            ]
          },
          "metadata": {
            "tags": []
          }
        }
      ]
    },
    {
      "cell_type": "markdown",
      "metadata": {
        "id": "0wUxh8PP0bOK"
      },
      "source": [
        "# Dummy Variables and one-hot encoding "
      ]
    },
    {
      "cell_type": "code",
      "metadata": {
        "colab": {
          "base_uri": "https://localhost:8080/",
          "height": 411
        },
        "id": "YJfATCFtU0yu",
        "outputId": "f56442cc-a450-4884-dd26-4fc451b73b8b"
      },
      "source": [
        "# to_dummies -> very important in machine learning to turn categorical variables into numerical ones without giving them numeric meaning\n",
        "\n",
        "orders.head()"
      ],
      "execution_count": null,
      "outputs": [
        {
          "output_type": "execute_result",
          "data": {
            "text/html": [
              "<div>\n",
              "<style scoped>\n",
              "    .dataframe tbody tr th:only-of-type {\n",
              "        vertical-align: middle;\n",
              "    }\n",
              "\n",
              "    .dataframe tbody tr th {\n",
              "        vertical-align: top;\n",
              "    }\n",
              "\n",
              "    .dataframe thead th {\n",
              "        text-align: right;\n",
              "    }\n",
              "</style>\n",
              "<table border=\"1\" class=\"dataframe\">\n",
              "  <thead>\n",
              "    <tr style=\"text-align: right;\">\n",
              "      <th></th>\n",
              "      <th>Order ID</th>\n",
              "      <th>Ship Date</th>\n",
              "      <th>Ship Mode</th>\n",
              "      <th>City</th>\n",
              "      <th>State</th>\n",
              "      <th>Country</th>\n",
              "      <th>Region</th>\n",
              "      <th>Product ID</th>\n",
              "      <th>Jan</th>\n",
              "      <th>Feb</th>\n",
              "      <th>Mar</th>\n",
              "      <th>Apr</th>\n",
              "      <th>May</th>\n",
              "      <th>June</th>\n",
              "      <th>July</th>\n",
              "      <th>August</th>\n",
              "      <th>September</th>\n",
              "      <th>Oct</th>\n",
              "      <th>Nov</th>\n",
              "      <th>Dec</th>\n",
              "    </tr>\n",
              "  </thead>\n",
              "  <tbody>\n",
              "    <tr>\n",
              "      <th>0</th>\n",
              "      <td>ES-2014-1846006</td>\n",
              "      <td>2016-01-03</td>\n",
              "      <td>First Class</td>\n",
              "      <td>Paris</td>\n",
              "      <td>Ile-de-France</td>\n",
              "      <td>France</td>\n",
              "      <td>Central</td>\n",
              "      <td>FUR-BO-10001405</td>\n",
              "      <td>0.296785</td>\n",
              "      <td>0.740937</td>\n",
              "      <td>0.319342</td>\n",
              "      <td>0.664082</td>\n",
              "      <td>0.491991</td>\n",
              "      <td>0.279603</td>\n",
              "      <td>0.721468</td>\n",
              "      <td>0.827661</td>\n",
              "      <td>0.266435</td>\n",
              "      <td>0.593755</td>\n",
              "      <td>0.624222</td>\n",
              "      <td>0.666361</td>\n",
              "    </tr>\n",
              "    <tr>\n",
              "      <th>1</th>\n",
              "      <td>ES-2014-1846006</td>\n",
              "      <td>2016-01-03</td>\n",
              "      <td>First Class</td>\n",
              "      <td>Paris</td>\n",
              "      <td>Ile-de-France</td>\n",
              "      <td>France</td>\n",
              "      <td>Central</td>\n",
              "      <td>OFF-AP-10000977</td>\n",
              "      <td>0.920646</td>\n",
              "      <td>0.968545</td>\n",
              "      <td>0.171464</td>\n",
              "      <td>0.244247</td>\n",
              "      <td>0.025352</td>\n",
              "      <td>0.119380</td>\n",
              "      <td>0.931719</td>\n",
              "      <td>0.742272</td>\n",
              "      <td>0.886169</td>\n",
              "      <td>0.258289</td>\n",
              "      <td>0.523348</td>\n",
              "      <td>0.629398</td>\n",
              "    </tr>\n",
              "    <tr>\n",
              "      <th>2</th>\n",
              "      <td>ES-2014-1846006</td>\n",
              "      <td>2016-01-03</td>\n",
              "      <td>First Class</td>\n",
              "      <td>Paris</td>\n",
              "      <td>Ile-de-France</td>\n",
              "      <td>France</td>\n",
              "      <td>Central</td>\n",
              "      <td>OFF-BI-10002083</td>\n",
              "      <td>0.879809</td>\n",
              "      <td>0.363669</td>\n",
              "      <td>0.150853</td>\n",
              "      <td>0.888946</td>\n",
              "      <td>0.860743</td>\n",
              "      <td>0.648089</td>\n",
              "      <td>0.022201</td>\n",
              "      <td>0.637949</td>\n",
              "      <td>0.873964</td>\n",
              "      <td>0.738800</td>\n",
              "      <td>0.869995</td>\n",
              "      <td>0.182114</td>\n",
              "    </tr>\n",
              "    <tr>\n",
              "      <th>3</th>\n",
              "      <td>ES-2015-1001989</td>\n",
              "      <td>2015-03-15</td>\n",
              "      <td>First Class</td>\n",
              "      <td>Berlin</td>\n",
              "      <td>Berlin</td>\n",
              "      <td>Germany</td>\n",
              "      <td>Central</td>\n",
              "      <td>OFF-BI-10002570</td>\n",
              "      <td>0.258669</td>\n",
              "      <td>0.915954</td>\n",
              "      <td>0.207590</td>\n",
              "      <td>0.659243</td>\n",
              "      <td>0.656168</td>\n",
              "      <td>0.346124</td>\n",
              "      <td>0.227398</td>\n",
              "      <td>0.934574</td>\n",
              "      <td>0.639858</td>\n",
              "      <td>0.757322</td>\n",
              "      <td>0.921393</td>\n",
              "      <td>0.983744</td>\n",
              "    </tr>\n",
              "    <tr>\n",
              "      <th>4</th>\n",
              "      <td>ES-2015-1010958</td>\n",
              "      <td>2015-06-07</td>\n",
              "      <td>Standard Class</td>\n",
              "      <td>Deuil-la-Barre</td>\n",
              "      <td>Ile-de-France</td>\n",
              "      <td>France</td>\n",
              "      <td>Central</td>\n",
              "      <td>OFF-BI-10004924</td>\n",
              "      <td>0.283790</td>\n",
              "      <td>0.224399</td>\n",
              "      <td>0.518316</td>\n",
              "      <td>0.396888</td>\n",
              "      <td>0.709176</td>\n",
              "      <td>0.137325</td>\n",
              "      <td>0.771152</td>\n",
              "      <td>0.605851</td>\n",
              "      <td>0.209154</td>\n",
              "      <td>0.599237</td>\n",
              "      <td>0.209094</td>\n",
              "      <td>0.662120</td>\n",
              "    </tr>\n",
              "  </tbody>\n",
              "</table>\n",
              "</div>"
            ],
            "text/plain": [
              "          Order ID  Ship Date       Ship Mode  ...       Oct       Nov       Dec\n",
              "0  ES-2014-1846006 2016-01-03     First Class  ...  0.593755  0.624222  0.666361\n",
              "1  ES-2014-1846006 2016-01-03     First Class  ...  0.258289  0.523348  0.629398\n",
              "2  ES-2014-1846006 2016-01-03     First Class  ...  0.738800  0.869995  0.182114\n",
              "3  ES-2015-1001989 2015-03-15     First Class  ...  0.757322  0.921393  0.983744\n",
              "4  ES-2015-1010958 2015-06-07  Standard Class  ...  0.599237  0.209094  0.662120\n",
              "\n",
              "[5 rows x 20 columns]"
            ]
          },
          "metadata": {
            "tags": []
          },
          "execution_count": 28
        }
      ]
    },
    {
      "cell_type": "code",
      "metadata": {
        "colab": {
          "base_uri": "https://localhost:8080/",
          "height": 791
        },
        "id": "BzmK6cAYVZZo",
        "outputId": "d3c39aa5-e6c0-4027-be61-2fc527f985c9"
      },
      "source": [
        "# one hot encoding of a categorical variable\n",
        "# get_dummies(dataframe to get dummies, column(s) you want to make dummies)\n",
        "pd.get_dummies(orders, columns = ['Ship Mode'])"
      ],
      "execution_count": null,
      "outputs": [
        {
          "output_type": "execute_result",
          "data": {
            "text/html": [
              "<div>\n",
              "<style scoped>\n",
              "    .dataframe tbody tr th:only-of-type {\n",
              "        vertical-align: middle;\n",
              "    }\n",
              "\n",
              "    .dataframe tbody tr th {\n",
              "        vertical-align: top;\n",
              "    }\n",
              "\n",
              "    .dataframe thead th {\n",
              "        text-align: right;\n",
              "    }\n",
              "</style>\n",
              "<table border=\"1\" class=\"dataframe\">\n",
              "  <thead>\n",
              "    <tr style=\"text-align: right;\">\n",
              "      <th></th>\n",
              "      <th>Order ID</th>\n",
              "      <th>Ship Date</th>\n",
              "      <th>City</th>\n",
              "      <th>State</th>\n",
              "      <th>Country</th>\n",
              "      <th>Region</th>\n",
              "      <th>Product ID</th>\n",
              "      <th>Jan</th>\n",
              "      <th>Feb</th>\n",
              "      <th>Mar</th>\n",
              "      <th>Apr</th>\n",
              "      <th>May</th>\n",
              "      <th>June</th>\n",
              "      <th>July</th>\n",
              "      <th>August</th>\n",
              "      <th>September</th>\n",
              "      <th>Oct</th>\n",
              "      <th>Nov</th>\n",
              "      <th>Dec</th>\n",
              "      <th>Ship Mode_First Class</th>\n",
              "      <th>Ship Mode_Same Day</th>\n",
              "      <th>Ship Mode_Second Class</th>\n",
              "      <th>Ship Mode_Standard Class</th>\n",
              "    </tr>\n",
              "  </thead>\n",
              "  <tbody>\n",
              "    <tr>\n",
              "      <th>0</th>\n",
              "      <td>ES-2014-1846006</td>\n",
              "      <td>2016-01-03</td>\n",
              "      <td>Paris</td>\n",
              "      <td>Ile-de-France</td>\n",
              "      <td>France</td>\n",
              "      <td>Central</td>\n",
              "      <td>FUR-BO-10001405</td>\n",
              "      <td>0.296785</td>\n",
              "      <td>0.740937</td>\n",
              "      <td>0.319342</td>\n",
              "      <td>0.664082</td>\n",
              "      <td>0.491991</td>\n",
              "      <td>0.279603</td>\n",
              "      <td>0.721468</td>\n",
              "      <td>0.827661</td>\n",
              "      <td>0.266435</td>\n",
              "      <td>0.593755</td>\n",
              "      <td>0.624222</td>\n",
              "      <td>0.666361</td>\n",
              "      <td>1</td>\n",
              "      <td>0</td>\n",
              "      <td>0</td>\n",
              "      <td>0</td>\n",
              "    </tr>\n",
              "    <tr>\n",
              "      <th>1</th>\n",
              "      <td>ES-2014-1846006</td>\n",
              "      <td>2016-01-03</td>\n",
              "      <td>Paris</td>\n",
              "      <td>Ile-de-France</td>\n",
              "      <td>France</td>\n",
              "      <td>Central</td>\n",
              "      <td>OFF-AP-10000977</td>\n",
              "      <td>0.920646</td>\n",
              "      <td>0.968545</td>\n",
              "      <td>0.171464</td>\n",
              "      <td>0.244247</td>\n",
              "      <td>0.025352</td>\n",
              "      <td>0.119380</td>\n",
              "      <td>0.931719</td>\n",
              "      <td>0.742272</td>\n",
              "      <td>0.886169</td>\n",
              "      <td>0.258289</td>\n",
              "      <td>0.523348</td>\n",
              "      <td>0.629398</td>\n",
              "      <td>1</td>\n",
              "      <td>0</td>\n",
              "      <td>0</td>\n",
              "      <td>0</td>\n",
              "    </tr>\n",
              "    <tr>\n",
              "      <th>2</th>\n",
              "      <td>ES-2014-1846006</td>\n",
              "      <td>2016-01-03</td>\n",
              "      <td>Paris</td>\n",
              "      <td>Ile-de-France</td>\n",
              "      <td>France</td>\n",
              "      <td>Central</td>\n",
              "      <td>OFF-BI-10002083</td>\n",
              "      <td>0.879809</td>\n",
              "      <td>0.363669</td>\n",
              "      <td>0.150853</td>\n",
              "      <td>0.888946</td>\n",
              "      <td>0.860743</td>\n",
              "      <td>0.648089</td>\n",
              "      <td>0.022201</td>\n",
              "      <td>0.637949</td>\n",
              "      <td>0.873964</td>\n",
              "      <td>0.738800</td>\n",
              "      <td>0.869995</td>\n",
              "      <td>0.182114</td>\n",
              "      <td>1</td>\n",
              "      <td>0</td>\n",
              "      <td>0</td>\n",
              "      <td>0</td>\n",
              "    </tr>\n",
              "    <tr>\n",
              "      <th>3</th>\n",
              "      <td>ES-2015-1001989</td>\n",
              "      <td>2015-03-15</td>\n",
              "      <td>Berlin</td>\n",
              "      <td>Berlin</td>\n",
              "      <td>Germany</td>\n",
              "      <td>Central</td>\n",
              "      <td>OFF-BI-10002570</td>\n",
              "      <td>0.258669</td>\n",
              "      <td>0.915954</td>\n",
              "      <td>0.207590</td>\n",
              "      <td>0.659243</td>\n",
              "      <td>0.656168</td>\n",
              "      <td>0.346124</td>\n",
              "      <td>0.227398</td>\n",
              "      <td>0.934574</td>\n",
              "      <td>0.639858</td>\n",
              "      <td>0.757322</td>\n",
              "      <td>0.921393</td>\n",
              "      <td>0.983744</td>\n",
              "      <td>1</td>\n",
              "      <td>0</td>\n",
              "      <td>0</td>\n",
              "      <td>0</td>\n",
              "    </tr>\n",
              "    <tr>\n",
              "      <th>4</th>\n",
              "      <td>ES-2015-1010958</td>\n",
              "      <td>2015-06-07</td>\n",
              "      <td>Deuil-la-Barre</td>\n",
              "      <td>Ile-de-France</td>\n",
              "      <td>France</td>\n",
              "      <td>Central</td>\n",
              "      <td>OFF-BI-10004924</td>\n",
              "      <td>0.283790</td>\n",
              "      <td>0.224399</td>\n",
              "      <td>0.518316</td>\n",
              "      <td>0.396888</td>\n",
              "      <td>0.709176</td>\n",
              "      <td>0.137325</td>\n",
              "      <td>0.771152</td>\n",
              "      <td>0.605851</td>\n",
              "      <td>0.209154</td>\n",
              "      <td>0.599237</td>\n",
              "      <td>0.209094</td>\n",
              "      <td>0.662120</td>\n",
              "      <td>0</td>\n",
              "      <td>0</td>\n",
              "      <td>0</td>\n",
              "      <td>1</td>\n",
              "    </tr>\n",
              "    <tr>\n",
              "      <th>...</th>\n",
              "      <td>...</td>\n",
              "      <td>...</td>\n",
              "      <td>...</td>\n",
              "      <td>...</td>\n",
              "      <td>...</td>\n",
              "      <td>...</td>\n",
              "      <td>...</td>\n",
              "      <td>...</td>\n",
              "      <td>...</td>\n",
              "      <td>...</td>\n",
              "      <td>...</td>\n",
              "      <td>...</td>\n",
              "      <td>...</td>\n",
              "      <td>...</td>\n",
              "      <td>...</td>\n",
              "      <td>...</td>\n",
              "      <td>...</td>\n",
              "      <td>...</td>\n",
              "      <td>...</td>\n",
              "      <td>...</td>\n",
              "      <td>...</td>\n",
              "      <td>...</td>\n",
              "      <td>...</td>\n",
              "    </tr>\n",
              "    <tr>\n",
              "      <th>9989</th>\n",
              "      <td>IT-2018-5975833</td>\n",
              "      <td>2018-07-23</td>\n",
              "      <td>Essen</td>\n",
              "      <td>North Rhine-Westphalia</td>\n",
              "      <td>Germany</td>\n",
              "      <td>Central</td>\n",
              "      <td>OFF-AP-10000717</td>\n",
              "      <td>0.819154</td>\n",
              "      <td>0.553914</td>\n",
              "      <td>0.629239</td>\n",
              "      <td>0.134236</td>\n",
              "      <td>0.670699</td>\n",
              "      <td>0.842767</td>\n",
              "      <td>0.361586</td>\n",
              "      <td>0.575582</td>\n",
              "      <td>0.488450</td>\n",
              "      <td>0.544693</td>\n",
              "      <td>0.747544</td>\n",
              "      <td>0.787444</td>\n",
              "      <td>0</td>\n",
              "      <td>0</td>\n",
              "      <td>0</td>\n",
              "      <td>1</td>\n",
              "    </tr>\n",
              "    <tr>\n",
              "      <th>9990</th>\n",
              "      <td>IT-2018-5984498</td>\n",
              "      <td>2018-10-06</td>\n",
              "      <td>Amsterdam</td>\n",
              "      <td>North Holland</td>\n",
              "      <td>Netherlands</td>\n",
              "      <td>Central</td>\n",
              "      <td>FUR-BO-10002680</td>\n",
              "      <td>0.687606</td>\n",
              "      <td>0.497367</td>\n",
              "      <td>0.924594</td>\n",
              "      <td>0.818652</td>\n",
              "      <td>0.658949</td>\n",
              "      <td>0.777059</td>\n",
              "      <td>0.392183</td>\n",
              "      <td>0.562190</td>\n",
              "      <td>0.820620</td>\n",
              "      <td>0.038028</td>\n",
              "      <td>0.505030</td>\n",
              "      <td>0.624923</td>\n",
              "      <td>0</td>\n",
              "      <td>0</td>\n",
              "      <td>0</td>\n",
              "      <td>1</td>\n",
              "    </tr>\n",
              "    <tr>\n",
              "      <th>9991</th>\n",
              "      <td>IT-2018-5989338</td>\n",
              "      <td>2018-04-18</td>\n",
              "      <td>Pamiers</td>\n",
              "      <td>Languedoc-Roussillon-Midi-Pyrénées</td>\n",
              "      <td>France</td>\n",
              "      <td>Central</td>\n",
              "      <td>OFF-ST-10003785</td>\n",
              "      <td>0.844459</td>\n",
              "      <td>0.565612</td>\n",
              "      <td>0.898033</td>\n",
              "      <td>0.512931</td>\n",
              "      <td>0.547257</td>\n",
              "      <td>0.246410</td>\n",
              "      <td>0.689964</td>\n",
              "      <td>0.224034</td>\n",
              "      <td>0.837423</td>\n",
              "      <td>0.664930</td>\n",
              "      <td>0.405134</td>\n",
              "      <td>0.619906</td>\n",
              "      <td>0</td>\n",
              "      <td>0</td>\n",
              "      <td>0</td>\n",
              "      <td>1</td>\n",
              "    </tr>\n",
              "    <tr>\n",
              "      <th>9992</th>\n",
              "      <td>IT-2018-5992832</td>\n",
              "      <td>2018-08-17</td>\n",
              "      <td>Bottrop</td>\n",
              "      <td>North Rhine-Westphalia</td>\n",
              "      <td>Germany</td>\n",
              "      <td>Central</td>\n",
              "      <td>OFF-LA-10000707</td>\n",
              "      <td>0.078376</td>\n",
              "      <td>0.605297</td>\n",
              "      <td>0.043026</td>\n",
              "      <td>0.174231</td>\n",
              "      <td>0.694810</td>\n",
              "      <td>0.799297</td>\n",
              "      <td>0.257516</td>\n",
              "      <td>0.418385</td>\n",
              "      <td>0.073775</td>\n",
              "      <td>0.861150</td>\n",
              "      <td>0.239459</td>\n",
              "      <td>0.802197</td>\n",
              "      <td>0</td>\n",
              "      <td>0</td>\n",
              "      <td>1</td>\n",
              "      <td>0</td>\n",
              "    </tr>\n",
              "    <tr>\n",
              "      <th>9993</th>\n",
              "      <td>IT-2018-5992832</td>\n",
              "      <td>2018-08-17</td>\n",
              "      <td>Bottrop</td>\n",
              "      <td>North Rhine-Westphalia</td>\n",
              "      <td>Germany</td>\n",
              "      <td>Central</td>\n",
              "      <td>OFF-ST-10003785</td>\n",
              "      <td>0.880051</td>\n",
              "      <td>0.492267</td>\n",
              "      <td>0.760637</td>\n",
              "      <td>0.328624</td>\n",
              "      <td>0.780276</td>\n",
              "      <td>0.322788</td>\n",
              "      <td>0.679005</td>\n",
              "      <td>0.479424</td>\n",
              "      <td>0.208799</td>\n",
              "      <td>0.146535</td>\n",
              "      <td>0.518437</td>\n",
              "      <td>0.972079</td>\n",
              "      <td>0</td>\n",
              "      <td>0</td>\n",
              "      <td>1</td>\n",
              "      <td>0</td>\n",
              "    </tr>\n",
              "  </tbody>\n",
              "</table>\n",
              "<p>9994 rows × 23 columns</p>\n",
              "</div>"
            ],
            "text/plain": [
              "             Order ID  ... Ship Mode_Standard Class\n",
              "0     ES-2014-1846006  ...                        0\n",
              "1     ES-2014-1846006  ...                        0\n",
              "2     ES-2014-1846006  ...                        0\n",
              "3     ES-2015-1001989  ...                        0\n",
              "4     ES-2015-1010958  ...                        1\n",
              "...               ...  ...                      ...\n",
              "9989  IT-2018-5975833  ...                        1\n",
              "9990  IT-2018-5984498  ...                        1\n",
              "9991  IT-2018-5989338  ...                        1\n",
              "9992  IT-2018-5992832  ...                        0\n",
              "9993  IT-2018-5992832  ...                        0\n",
              "\n",
              "[9994 rows x 23 columns]"
            ]
          },
          "metadata": {
            "tags": []
          },
          "execution_count": 35
        }
      ]
    },
    {
      "cell_type": "code",
      "metadata": {
        "id": "KU4bA7w50bON"
      },
      "source": [
        ""
      ],
      "execution_count": null,
      "outputs": []
    },
    {
      "cell_type": "code",
      "metadata": {
        "id": "w80rWuRx0bOP"
      },
      "source": [
        ""
      ],
      "execution_count": null,
      "outputs": []
    },
    {
      "cell_type": "markdown",
      "metadata": {
        "id": "VhaOJabP0bOU"
      },
      "source": [
        "# Data cleaning"
      ]
    },
    {
      "cell_type": "code",
      "metadata": {
        "id": "yK3nCKYs0bOV"
      },
      "source": [
        "# basic data cleaning operations\n",
        "\n",
        "# check before labtime -> check the df.dropna -> drops rows/columns that contain null values\n",
        "\n",
        "# the duplicates method goes to each column and checks if the values inside are the same for each row\n",
        "\n",
        "# drop duplicates\n",
        "\n",
        "orders.drop_duplicates().shape"
      ],
      "execution_count": null,
      "outputs": []
    },
    {
      "cell_type": "code",
      "metadata": {
        "id": "iFHtfJ9D0bOW"
      },
      "source": [
        "orders = orders.drop('Product ID', axis = 1)\n",
        "orders = orders.drop('Product Name', axis = 1)\n",
        "orders = orders.drop('Sales', axis = 1)\n",
        "orders = orders.drop('Profit', axis = 1)\n",
        "orders = orders.drop('Discount', axis = 1)\n",
        "orders = orders.drop('Quantity', axis = 1)\n",
        "orders = orders.drop('profit ratio', axis = 1)\n",
        "orders = orders.drop('Profit-Flag', axis = 1)\n",
        "orders = orders.drop('Row ID', axis = 1)\n",
        "orders = orders.drop('new_column', axis = 1)\n",
        "\n",
        "orders"
      ],
      "execution_count": null,
      "outputs": []
    },
    {
      "cell_type": "code",
      "metadata": {
        "id": "W_uWx-270bOX"
      },
      "source": [
        "orders.drop_duplicates().shape"
      ],
      "execution_count": null,
      "outputs": []
    }
  ]
}